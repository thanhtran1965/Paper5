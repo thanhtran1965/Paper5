{
 "cells": [
  {
   "cell_type": "markdown",
   "id": "2d67966a",
   "metadata": {
    "papermill": {
     "duration": 0.028206,
     "end_time": "2022-09-05T15:06:36.914617",
     "exception": false,
     "start_time": "2022-09-05T15:06:36.886411",
     "status": "completed"
    },
    "tags": []
   },
   "source": [
    "## Generate sounds with Variational AutoEncoder\n"
   ]
  },
  {
   "cell_type": "code",
   "execution_count": 1,
   "id": "0f96a2d6",
   "metadata": {
    "_kg_hide-output": true,
    "execution": {
     "iopub.execute_input": "2022-09-05T15:06:36.956785Z",
     "iopub.status.busy": "2022-09-05T15:06:36.955938Z",
     "iopub.status.idle": "2022-09-05T15:06:54.235336Z",
     "shell.execute_reply": "2022-09-05T15:06:54.234169Z"
    },
    "papermill": {
     "duration": 17.303273,
     "end_time": "2022-09-05T15:06:54.238005",
     "exception": false,
     "start_time": "2022-09-05T15:06:36.934732",
     "status": "completed"
    },
    "tags": []
   },
   "outputs": [
    {
     "name": "stdout",
     "output_type": "stream",
     "text": [
      "\u001b[33mWARNING: Running pip as the 'root' user can result in broken permissions and conflicting behaviour with the system package manager. It is recommended to use a virtual environment instead: https://pip.pypa.io/warnings/venv\u001b[0m\u001b[33m\r\n",
      "\u001b[0m"
     ]
    }
   ],
   "source": [
    "#!pip install imutils\n",
    "#!/opt/conda/bin/python3.7 -m pip install --upgrade pip\n",
    "#!pip install tensorflow-addons\n",
    "#!pip install --upgrade --ignore-installed tensorflow\n",
    "#!pip install -q imageio\n",
    "!pip install -q git+https://github.com/tensorflow/docs"
   ]
  },
  {
   "cell_type": "code",
   "execution_count": 2,
   "id": "4b2ca8a6",
   "metadata": {
    "execution": {
     "iopub.execute_input": "2022-09-05T15:06:54.276376Z",
     "iopub.status.busy": "2022-09-05T15:06:54.276054Z",
     "iopub.status.idle": "2022-09-05T15:07:07.100152Z",
     "shell.execute_reply": "2022-09-05T15:07:07.098634Z"
    },
    "papermill": {
     "duration": 12.84557,
     "end_time": "2022-09-05T15:07:07.102340",
     "exception": false,
     "start_time": "2022-09-05T15:06:54.256770",
     "status": "completed"
    },
    "tags": []
   },
   "outputs": [
    {
     "name": "stdout",
     "output_type": "stream",
     "text": [
      "Collecting tfa-nightly\r\n",
      "  Downloading tfa_nightly-0.17.0.dev20220824210635-cp37-cp37m-manylinux_2_17_x86_64.manylinux2014_x86_64.whl (1.1 MB)\r\n",
      "\u001b[2K     \u001b[90m━━━━━━━━━━━━━━━━━━━━━━━━━━━━━━━━━━━━━━━━\u001b[0m \u001b[32m1.1/1.1 MB\u001b[0m \u001b[31m4.1 MB/s\u001b[0m eta \u001b[36m0:00:00\u001b[0m\r\n",
      "\u001b[?25hRequirement already satisfied: packaging in /opt/conda/lib/python3.7/site-packages (from tfa-nightly) (21.3)\r\n",
      "Requirement already satisfied: typeguard>=2.7 in /opt/conda/lib/python3.7/site-packages (from tfa-nightly) (2.13.3)\r\n",
      "Requirement already satisfied: pyparsing!=3.0.5,>=2.0.2 in /opt/conda/lib/python3.7/site-packages (from packaging->tfa-nightly) (3.0.9)\r\n",
      "Installing collected packages: tfa-nightly\r\n",
      "Successfully installed tfa-nightly-0.17.0.dev20220824210635\r\n",
      "\u001b[33mWARNING: Running pip as the 'root' user can result in broken permissions and conflicting behaviour with the system package manager. It is recommended to use a virtual environment instead: https://pip.pypa.io/warnings/venv\u001b[0m\u001b[33m\r\n",
      "\u001b[0mNote: you may need to restart the kernel to use updated packages.\n"
     ]
    }
   ],
   "source": [
    "pip install tfa-nightly"
   ]
  },
  {
   "cell_type": "code",
   "execution_count": 3,
   "id": "0f9b43bd",
   "metadata": {
    "execution": {
     "iopub.execute_input": "2022-09-05T15:07:07.143522Z",
     "iopub.status.busy": "2022-09-05T15:07:07.142457Z",
     "iopub.status.idle": "2022-09-05T15:07:07.147796Z",
     "shell.execute_reply": "2022-09-05T15:07:07.146789Z"
    },
    "papermill": {
     "duration": 0.027474,
     "end_time": "2022-09-05T15:07:07.149739",
     "exception": false,
     "start_time": "2022-09-05T15:07:07.122265",
     "status": "completed"
    },
    "tags": []
   },
   "outputs": [],
   "source": [
    "#pip install librosa "
   ]
  },
  {
   "cell_type": "code",
   "execution_count": 4,
   "id": "73f0d807",
   "metadata": {
    "execution": {
     "iopub.execute_input": "2022-09-05T15:07:07.190180Z",
     "iopub.status.busy": "2022-09-05T15:07:07.189520Z",
     "iopub.status.idle": "2022-09-05T15:07:07.193487Z",
     "shell.execute_reply": "2022-09-05T15:07:07.192516Z"
    },
    "papermill": {
     "duration": 0.026242,
     "end_time": "2022-09-05T15:07:07.195583",
     "exception": false,
     "start_time": "2022-09-05T15:07:07.169341",
     "status": "completed"
    },
    "tags": []
   },
   "outputs": [],
   "source": [
    "#pip install pandas"
   ]
  },
  {
   "cell_type": "code",
   "execution_count": 5,
   "id": "62673a41",
   "metadata": {
    "execution": {
     "iopub.execute_input": "2022-09-05T15:07:07.236111Z",
     "iopub.status.busy": "2022-09-05T15:07:07.235244Z",
     "iopub.status.idle": "2022-09-05T15:07:07.239566Z",
     "shell.execute_reply": "2022-09-05T15:07:07.238713Z"
    },
    "papermill": {
     "duration": 0.026842,
     "end_time": "2022-09-05T15:07:07.241714",
     "exception": false,
     "start_time": "2022-09-05T15:07:07.214872",
     "status": "completed"
    },
    "tags": []
   },
   "outputs": [],
   "source": [
    "#pip install matplotlib"
   ]
  },
  {
   "cell_type": "code",
   "execution_count": 6,
   "id": "967f223b",
   "metadata": {
    "_kg_hide-output": true,
    "execution": {
     "iopub.execute_input": "2022-09-05T15:07:07.281688Z",
     "iopub.status.busy": "2022-09-05T15:07:07.281353Z",
     "iopub.status.idle": "2022-09-05T15:07:14.453957Z",
     "shell.execute_reply": "2022-09-05T15:07:14.452946Z"
    },
    "id": "9dW17ecr5IYC",
    "papermill": {
     "duration": 7.195403,
     "end_time": "2022-09-05T15:07:14.456384",
     "exception": false,
     "start_time": "2022-09-05T15:07:07.260981",
     "status": "completed"
    },
    "tags": []
   },
   "outputs": [
    {
     "name": "stdout",
     "output_type": "stream",
     "text": [
      "2.6.4\n"
     ]
    },
    {
     "name": "stderr",
     "output_type": "stream",
     "text": [
      "/opt/conda/lib/python3.7/site-packages/tensorflow_addons/utils/ensure_tf_install.py:67: UserWarning: Tensorflow Addons supports using Python ops for all Tensorflow versions above or equal to 2.7.0 and strictly below 2.10.0 (nightly versions are not supported). \n",
      " The versions of TensorFlow you are currently using is 2.6.4 and is not supported. \n",
      "Some things might work, some things might not.\n",
      "If you were to encounter a bug, do not file an issue.\n",
      "If you want to make sure you're using a tested and supported configuration, either change the TensorFlow version or the TensorFlow Addons's version. \n",
      "You can find the compatibility matrix in TensorFlow Addon's readme:\n",
      "https://github.com/tensorflow/addons\n",
      "  UserWarning,\n"
     ]
    }
   ],
   "source": [
    "import librosa\n",
    "\n",
    "import numpy as np\n",
    "import pandas as pd\n",
    "import os\n",
    "\n",
    "import tensorflow as tf\n",
    "print(tf.__version__)\n",
    "import tensorflow_addons as tfa\n",
    "from tensorflow.keras import layers \n",
    "\n",
    "import matplotlib.pyplot as plt\n",
    "from IPython import display\n",
    "from IPython.display import clear_output\n",
    "\n",
    "import glob\n",
    "import imageio\n",
    "import time\n",
    "import IPython.display as ipd\n",
    "\n",
    "AUTOTUNE = tf.data.experimental.AUTOTUNE"
   ]
  },
  {
   "cell_type": "code",
   "execution_count": 7,
   "id": "c9188d7a",
   "metadata": {
    "execution": {
     "iopub.execute_input": "2022-09-05T15:07:14.497166Z",
     "iopub.status.busy": "2022-09-05T15:07:14.496569Z",
     "iopub.status.idle": "2022-09-05T15:07:17.541448Z",
     "shell.execute_reply": "2022-09-05T15:07:17.540515Z"
    },
    "id": "Rf_iJJoWEkEF",
    "papermill": {
     "duration": 3.06752,
     "end_time": "2022-09-05T15:07:17.543820",
     "exception": false,
     "start_time": "2022-09-05T15:07:14.476300",
     "status": "completed"
    },
    "tags": []
   },
   "outputs": [
    {
     "name": "stderr",
     "output_type": "stream",
     "text": [
      "2022-09-05 15:07:14.506858: I tensorflow/core/platform/cpu_feature_guard.cc:142] This TensorFlow binary is optimized with oneAPI Deep Neural Network Library (oneDNN) to use the following CPU instructions in performance-critical operations:  AVX2 AVX512F FMA\n",
      "To enable them in other operations, rebuild TensorFlow with the appropriate compiler flags.\n",
      "2022-09-05 15:07:14.579942: I tensorflow/stream_executor/cuda/cuda_gpu_executor.cc:937] successful NUMA node read from SysFS had negative value (-1), but there must be at least one NUMA node, so returning NUMA node zero\n",
      "2022-09-05 15:07:14.739970: I tensorflow/stream_executor/cuda/cuda_gpu_executor.cc:937] successful NUMA node read from SysFS had negative value (-1), but there must be at least one NUMA node, so returning NUMA node zero\n",
      "2022-09-05 15:07:14.741222: I tensorflow/stream_executor/cuda/cuda_gpu_executor.cc:937] successful NUMA node read from SysFS had negative value (-1), but there must be at least one NUMA node, so returning NUMA node zero\n",
      "2022-09-05 15:07:17.063443: I tensorflow/stream_executor/cuda/cuda_gpu_executor.cc:937] successful NUMA node read from SysFS had negative value (-1), but there must be at least one NUMA node, so returning NUMA node zero\n",
      "2022-09-05 15:07:17.064886: I tensorflow/stream_executor/cuda/cuda_gpu_executor.cc:937] successful NUMA node read from SysFS had negative value (-1), but there must be at least one NUMA node, so returning NUMA node zero\n",
      "2022-09-05 15:07:17.065869: I tensorflow/stream_executor/cuda/cuda_gpu_executor.cc:937] successful NUMA node read from SysFS had negative value (-1), but there must be at least one NUMA node, so returning NUMA node zero\n",
      "2022-09-05 15:07:17.066670: I tensorflow/core/common_runtime/gpu/gpu_device.cc:1510] Created device /job:localhost/replica:0/task:0/device:GPU:0 with 15401 MB memory:  -> device: 0, name: Tesla P100-PCIE-16GB, pci bus id: 0000:00:04.0, compute capability: 6.0\n"
     ]
    }
   ],
   "source": [
    "seed=123\n",
    "tf.compat.v1.set_random_seed(seed)\n",
    "session_conf = tf.compat.v1.ConfigProto(intra_op_parallelism_threads=1, inter_op_parallelism_threads=1)\n",
    "sess = tf.compat.v1.Session(graph=tf.compat.v1.get_default_graph(), config=session_conf)\n",
    "tf.compat.v1.keras.backend.set_session(sess)"
   ]
  },
  {
   "cell_type": "code",
   "execution_count": 8,
   "id": "67780000",
   "metadata": {
    "execution": {
     "iopub.execute_input": "2022-09-05T15:07:17.584921Z",
     "iopub.status.busy": "2022-09-05T15:07:17.584607Z",
     "iopub.status.idle": "2022-09-05T15:07:17.589373Z",
     "shell.execute_reply": "2022-09-05T15:07:17.588410Z"
    },
    "papermill": {
     "duration": 0.027616,
     "end_time": "2022-09-05T15:07:17.591692",
     "exception": false,
     "start_time": "2022-09-05T15:07:17.564076",
     "status": "completed"
    },
    "tags": []
   },
   "outputs": [],
   "source": [
    "train_size = 60000\n",
    "BATCH_SIZE = 10\n",
    "test_size = 10000\n",
    "epochs = 20\n",
    "# set the dimensionality of the latent space to a plane for visualization later\n",
    "latent_dim = 2\n",
    "num_examples_to_generate = 10\n",
    "#BASE_PATH = '/media/thanh/Samsung_T5/BackupData/3rdYear2021/29.Paper4/ValmetDataset/ValmetRawSound/Data/'\n",
    "BASE_PATH = '../input/valmetab/Valmet'"
   ]
  },
  {
   "cell_type": "markdown",
   "id": "144fb484",
   "metadata": {
    "papermill": {
     "duration": 0.019115,
     "end_time": "2022-09-05T15:07:17.630257",
     "exception": false,
     "start_time": "2022-09-05T15:07:17.611142",
     "status": "completed"
    },
    "tags": []
   },
   "source": [
    "## Data preprocessing"
   ]
  },
  {
   "cell_type": "code",
   "execution_count": 9,
   "id": "17e395a8",
   "metadata": {
    "execution": {
     "iopub.execute_input": "2022-09-05T15:07:17.671747Z",
     "iopub.status.busy": "2022-09-05T15:07:17.670243Z",
     "iopub.status.idle": "2022-09-05T15:07:17.678303Z",
     "shell.execute_reply": "2022-09-05T15:07:17.677434Z"
    },
    "id": "NtThS3oVWU85",
    "papermill": {
     "duration": 0.030973,
     "end_time": "2022-09-05T15:07:17.680256",
     "exception": false,
     "start_time": "2022-09-05T15:07:17.649283",
     "status": "completed"
    },
    "tags": []
   },
   "outputs": [],
   "source": [
    "def DatasetLoader(class_):\n",
    "    sound_list = np.array(sorted(os.listdir(BASE_PATH+'/'+class_)))\n",
    "    train_sound_1 = list(sound_list[[0,2,4,6,8,10,12,14,16,18,20,22,24,26,28,30,32,34,36,38,40,42,44,46,48,50,52,54,56,58,60,62,64,66]]) \n",
    "    train_sound_2 = list(sound_list[[1,3,5,7,9,11,13,15,17,19,21,23,25,27,29,31,33,35,37,39,41,43,45,47,49,51,53,55,57,59,61,63,65]]) \n",
    "    TrackSet_1 = [(BASE_PATH)+'/'+class_+'/%s'%(x) for x in train_sound_1]\n",
    "    TrackSet_2 = [(BASE_PATH)+'/'+class_+'/%s'%(x) for x in train_sound_2]\n",
    "\n",
    "    return TrackSet_1, TrackSet_2"
   ]
  },
  {
   "cell_type": "code",
   "execution_count": 10,
   "id": "3fdbcc16",
   "metadata": {
    "execution": {
     "iopub.execute_input": "2022-09-05T15:07:17.720655Z",
     "iopub.status.busy": "2022-09-05T15:07:17.719803Z",
     "iopub.status.idle": "2022-09-05T15:07:17.726826Z",
     "shell.execute_reply": "2022-09-05T15:07:17.725983Z"
    },
    "id": "72nbIzueCYWq",
    "papermill": {
     "duration": 0.029431,
     "end_time": "2022-09-05T15:07:17.728827",
     "exception": false,
     "start_time": "2022-09-05T15:07:17.699396",
     "status": "completed"
    },
    "tags": []
   },
   "outputs": [],
   "source": [
    "def load(file_):\n",
    "    data_, sampling_rate = librosa.load(file_,sr=96000, offset=0.0, duration=0.02083)\n",
    "    # Thanh\n",
    "    input_fixed_length = 1\n",
    "    if len(data_) < input_fixed_length:\n",
    "        nb_replicas = int(np.ceil(input_fixed_length / len(data_)))\n",
    "        data_rep = np.tile(data_, (nb_replicas, 1))\n",
    "        data_ = data_rep[:input_fixed_length]  \n",
    "    \n",
    "    data_ = data_.reshape(1,1999)\n",
    "    return data_\n",
    "map_data = lambda filename: tf.compat.v1.py_func(load, [filename], [tf.float32])"
   ]
  },
  {
   "cell_type": "code",
   "execution_count": 11,
   "id": "b4420ca3",
   "metadata": {
    "execution": {
     "iopub.execute_input": "2022-09-05T15:07:17.768569Z",
     "iopub.status.busy": "2022-09-05T15:07:17.767790Z",
     "iopub.status.idle": "2022-09-05T15:07:17.789116Z",
     "shell.execute_reply": "2022-09-05T15:07:17.788275Z"
    },
    "id": "Z-q0fDhfeek_",
    "papermill": {
     "duration": 0.043388,
     "end_time": "2022-09-05T15:07:17.791259",
     "exception": false,
     "start_time": "2022-09-05T15:07:17.747871",
     "status": "completed"
    },
    "tags": []
   },
   "outputs": [],
   "source": [
    "TrackSet_1, TrackSet_2 = DatasetLoader('Anomaly')"
   ]
  },
  {
   "cell_type": "markdown",
   "id": "19595629",
   "metadata": {
    "papermill": {
     "duration": 0.019483,
     "end_time": "2022-09-05T15:07:17.830239",
     "exception": false,
     "start_time": "2022-09-05T15:07:17.810756",
     "status": "completed"
    },
    "tags": []
   },
   "source": [
    "## sample original sound"
   ]
  },
  {
   "cell_type": "code",
   "execution_count": 12,
   "id": "b6bc4fab",
   "metadata": {
    "execution": {
     "iopub.execute_input": "2022-09-05T15:07:17.870944Z",
     "iopub.status.busy": "2022-09-05T15:07:17.870085Z",
     "iopub.status.idle": "2022-09-05T15:07:18.563618Z",
     "shell.execute_reply": "2022-09-05T15:07:18.561570Z"
    },
    "papermill": {
     "duration": 0.719947,
     "end_time": "2022-09-05T15:07:18.569538",
     "exception": false,
     "start_time": "2022-09-05T15:07:17.849591",
     "status": "completed"
    },
    "tags": []
   },
   "outputs": [
    {
     "data": {
      "text/html": [
       "\n",
       "                <audio  controls=\"controls\" >\n",
       "                    <source src=\"data:audio/wav;base64,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\" type=\"audio/wav\" />\n",
       "                    Your browser does not support the audio element.\n",
       "                </audio>\n",
       "              "
      ],
      "text/plain": [
       "<IPython.lib.display.Audio object>"
      ]
     },
     "execution_count": 12,
     "metadata": {},
     "output_type": "execute_result"
    }
   ],
   "source": [
    "sample = TrackSet_1[1]\n",
    "sample_, sampling_rate = librosa.load(sample,sr=96000, offset=0.0, duration=0.02083)\n",
    "ipd.Audio(sample_,rate=1999)"
   ]
  },
  {
   "cell_type": "code",
   "execution_count": 13,
   "id": "183d3894",
   "metadata": {
    "execution": {
     "iopub.execute_input": "2022-09-05T15:07:18.612264Z",
     "iopub.status.busy": "2022-09-05T15:07:18.611938Z",
     "iopub.status.idle": "2022-09-05T15:07:19.459666Z",
     "shell.execute_reply": "2022-09-05T15:07:19.458697Z"
    },
    "id": "tTb_ETmUB80m",
    "outputId": "f4bdb49c-8183-4b8a-cc3a-bcbe89fa5369",
    "papermill": {
     "duration": 0.87157,
     "end_time": "2022-09-05T15:07:19.462161",
     "exception": false,
     "start_time": "2022-09-05T15:07:18.590591",
     "status": "completed"
    },
    "tags": []
   },
   "outputs": [
    {
     "data": {
      "image/png": "[encoded data removed]",
      "text/plain": [
       "<Figure size 1296x1080 with 4 Axes>"
      ]
     },
     "metadata": {
      "needs_background": "light"
     },
     "output_type": "display_data"
    }
   ],
   "source": [
    "import librosa.display\n",
    "plt.figure(figsize=(18,15))\n",
    "for i in range(4):\n",
    "    plt.subplot(4, 4, i + 1)\n",
    "    j = load(TrackSet_1[i])\n",
    "    #librosa.display.waveplot(j[0], sr=96000)\n",
    "    librosa.display.waveshow(j[0], sr=96000)\n",
    "    ax = plt.gca()\n",
    "    ax.set_xlabel('Time (s)')   \n",
    "    ax.set_ylabel(\"Signal\")   "
   ]
  },
  {
   "cell_type": "code",
   "execution_count": 14,
   "id": "a32efcda",
   "metadata": {
    "execution": {
     "iopub.execute_input": "2022-09-05T15:07:19.506763Z",
     "iopub.status.busy": "2022-09-05T15:07:19.506423Z",
     "iopub.status.idle": "2022-09-05T15:07:19.976083Z",
     "shell.execute_reply": "2022-09-05T15:07:19.975133Z"
    },
    "id": "WFrXrtoFPX1r",
    "jupyter": {
     "source_hidden": true
    },
    "outputId": "9395bfcc-2015-4e42-c8b8-f83a497295f7",
    "papermill": {
     "duration": 0.495632,
     "end_time": "2022-09-05T15:07:19.978845",
     "exception": false,
     "start_time": "2022-09-05T15:07:19.483213",
     "status": "completed"
    },
    "tags": []
   },
   "outputs": [
    {
     "name": "stderr",
     "output_type": "stream",
     "text": [
      "2022-09-05 15:07:19.510867: I tensorflow/stream_executor/cuda/cuda_gpu_executor.cc:937] successful NUMA node read from SysFS had negative value (-1), but there must be at least one NUMA node, so returning NUMA node zero\n",
      "2022-09-05 15:07:19.511844: I tensorflow/stream_executor/cuda/cuda_gpu_executor.cc:937] successful NUMA node read from SysFS had negative value (-1), but there must be at least one NUMA node, so returning NUMA node zero\n",
      "2022-09-05 15:07:19.512577: I tensorflow/stream_executor/cuda/cuda_gpu_executor.cc:937] successful NUMA node read from SysFS had negative value (-1), but there must be at least one NUMA node, so returning NUMA node zero\n",
      "2022-09-05 15:07:19.515323: I tensorflow/stream_executor/cuda/cuda_gpu_executor.cc:937] successful NUMA node read from SysFS had negative value (-1), but there must be at least one NUMA node, so returning NUMA node zero\n",
      "2022-09-05 15:07:19.516730: I tensorflow/stream_executor/cuda/cuda_gpu_executor.cc:937] successful NUMA node read from SysFS had negative value (-1), but there must be at least one NUMA node, so returning NUMA node zero\n",
      "2022-09-05 15:07:19.517698: I tensorflow/stream_executor/cuda/cuda_gpu_executor.cc:937] successful NUMA node read from SysFS had negative value (-1), but there must be at least one NUMA node, so returning NUMA node zero\n",
      "2022-09-05 15:07:19.518700: I tensorflow/stream_executor/cuda/cuda_gpu_executor.cc:937] successful NUMA node read from SysFS had negative value (-1), but there must be at least one NUMA node, so returning NUMA node zero\n",
      "2022-09-05 15:07:19.519465: I tensorflow/stream_executor/cuda/cuda_gpu_executor.cc:937] successful NUMA node read from SysFS had negative value (-1), but there must be at least one NUMA node, so returning NUMA node zero\n",
      "2022-09-05 15:07:19.520109: I tensorflow/core/common_runtime/gpu/gpu_device.cc:1510] Created device /job:localhost/replica:0/task:0/device:GPU:0 with 15401 MB memory:  -> device: 0, name: Tesla P100-PCIE-16GB, pci bus id: 0000:00:04.0, compute capability: 6.0\n"
     ]
    }
   ],
   "source": [
    "train_dataset = (\n",
    "    tf.data.Dataset\n",
    "    .from_tensor_slices((TrackSet_1))\n",
    "    .map(map_data, num_parallel_calls=AUTOTUNE)\n",
    "    .shuffle(3)\n",
    "    .batch(BATCH_SIZE)\n",
    ")\n",
    "test_dataset = (\n",
    "    tf.data.Dataset\n",
    "    .from_tensor_slices((TrackSet_2))\n",
    "    .map(map_data, num_parallel_calls=AUTOTUNE)\n",
    "    .shuffle(3)\n",
    "    .batch(BATCH_SIZE)\n",
    ")"
   ]
  },
  {
   "cell_type": "markdown",
   "id": "41caf93e",
   "metadata": {
    "papermill": {
     "duration": 0.020455,
     "end_time": "2022-09-05T15:07:20.021092",
     "exception": false,
     "start_time": "2022-09-05T15:07:20.000637",
     "status": "completed"
    },
    "tags": []
   },
   "source": [
    "## Network architecture"
   ]
  },
  {
   "cell_type": "code",
   "execution_count": 15,
   "id": "9714f223",
   "metadata": {
    "execution": {
     "iopub.execute_input": "2022-09-05T15:07:20.065650Z",
     "iopub.status.busy": "2022-09-05T15:07:20.064620Z",
     "iopub.status.idle": "2022-09-05T15:07:20.075060Z",
     "shell.execute_reply": "2022-09-05T15:07:20.074143Z"
    },
    "id": "qo4mCvIvvl25",
    "papermill": {
     "duration": 0.035022,
     "end_time": "2022-09-05T15:07:20.077090",
     "exception": false,
     "start_time": "2022-09-05T15:07:20.042068",
     "status": "completed"
    },
    "tags": []
   },
   "outputs": [],
   "source": [
    "class Resnet1DBlock(tf.keras.Model):\n",
    "    def __init__(self, kernel_size, filters,type='encode'):\n",
    "        super(Resnet1DBlock, self).__init__(name='')\n",
    "    \n",
    "        if type=='encode':\n",
    "            self.conv1a = layers.Conv1D(filters, kernel_size, 2,padding=\"same\")\n",
    "            self.conv1b = layers.Conv1D(filters, kernel_size, 1,padding=\"same\")\n",
    "            self.norm1a = tfa.layers.InstanceNormalization()\n",
    "            self.norm1b = tfa.layers.InstanceNormalization()\n",
    "        if type=='decode':\n",
    "            self.conv1a = layers.Conv1DTranspose(filters, kernel_size, 1,padding=\"same\")\n",
    "            self.conv1b = layers.Conv1DTranspose(filters, kernel_size, 1,padding=\"same\")\n",
    "            self.norm1a = tf.keras.layers.BatchNormalization()\n",
    "            self.norm1b = tf.keras.layers.BatchNormalization()\n",
    "        else:\n",
    "            return None\n",
    "\n",
    "    def call(self, input_tensor):\n",
    "        x = tf.nn.relu(input_tensor)\n",
    "        x = self.conv1a(x)\n",
    "        x = self.norm1a(x)\n",
    "        x = layers.LeakyReLU(0.4)(x)\n",
    "\n",
    "        x = self.conv1b(x)\n",
    "        x = self.norm1b(x)\n",
    "        x = layers.LeakyReLU(0.4)(x)\n",
    "\n",
    "        x += input_tensor\n",
    "        return tf.nn.relu(x)\n"
   ]
  },
  {
   "cell_type": "code",
   "execution_count": 16,
   "id": "e5ced5d0",
   "metadata": {
    "execution": {
     "iopub.execute_input": "2022-09-05T15:07:20.120951Z",
     "iopub.status.busy": "2022-09-05T15:07:20.120224Z",
     "iopub.status.idle": "2022-09-05T15:07:20.134692Z",
     "shell.execute_reply": "2022-09-05T15:07:20.133791Z"
    },
    "id": "unLIGpdE-6t-",
    "papermill": {
     "duration": 0.038712,
     "end_time": "2022-09-05T15:07:20.136637",
     "exception": false,
     "start_time": "2022-09-05T15:07:20.097925",
     "status": "completed"
    },
    "tags": []
   },
   "outputs": [],
   "source": [
    "class CVAE(tf.keras.Model):\n",
    "    \"\"\"Convolutional variational autoencoder.\"\"\"\n",
    "\n",
    "    def __init__(self, latent_dim):\n",
    "        super(CVAE, self).__init__()\n",
    "        self.latent_dim = latent_dim\n",
    "        self.encoder = tf.keras.Sequential(\n",
    "            [\n",
    "                tf.keras.layers.InputLayer(input_shape=(1,1999)),\n",
    "                layers.Conv1D(64,1,2),\n",
    "                Resnet1DBlock(64,1),\n",
    "                layers.Conv1D(128,1,2),\n",
    "                Resnet1DBlock(128,1),\n",
    "                layers.Conv1D(128,1,2),\n",
    "                Resnet1DBlock(128,1),\n",
    "                layers.Conv1D(256,1,2),\n",
    "                Resnet1DBlock(256,1),\n",
    "                # No activation\n",
    "                layers.Flatten(),\n",
    "                layers.Dense(latent_dim+latent_dim)\n",
    "\n",
    "            ]\n",
    "        )\n",
    "        self.decoder = tf.keras.Sequential(\n",
    "            [\n",
    "                tf.keras.layers.InputLayer(input_shape=(latent_dim,)),\n",
    "                layers.Reshape(target_shape=(1,latent_dim)),\n",
    "                Resnet1DBlock(512,1,'decode'),\n",
    "                layers.Conv1DTranspose(512,1,1),\n",
    "                Resnet1DBlock(256,1,'decode'),\n",
    "                layers.Conv1DTranspose(256,1,1),\n",
    "                Resnet1DBlock(128,1,'decode'),\n",
    "                layers.Conv1DTranspose(128,1,1),\n",
    "                Resnet1DBlock(64,1,'decode'),\n",
    "                layers.Conv1DTranspose(64,1,1),\n",
    "                # No activation\n",
    "                layers.Conv1DTranspose(1999,1,1),\n",
    "            ]\n",
    "        )\n",
    "    @tf.function\n",
    "    def sample(self, eps=None):\n",
    "        if eps is None:\n",
    "            eps = tf.random.normal(shape=(200, self.latent_dim))\n",
    "        return self.decode(eps, apply_sigmoid=True)\n",
    "    @tf.function\n",
    "    def encode(self, x):\n",
    "        mean, logvar = tf.split(self.encoder(x), num_or_size_splits=2, axis=1)\n",
    "        return mean, logvar\n",
    "    @tf.function\n",
    "    def reparameterize(self, mean, logvar):\n",
    "        eps = tf.random.normal(shape=mean.shape)\n",
    "        return eps * tf.exp(logvar * .5) + mean\n",
    "    @tf.function\n",
    "    def decode(self, z, apply_sigmoid=False):\n",
    "        logits = self.decoder(z)\n",
    "        if apply_sigmoid:\n",
    "            probs = tf.sigmoid(logits)\n",
    "            return probs\n",
    "        return logits"
   ]
  },
  {
   "cell_type": "code",
   "execution_count": 17,
   "id": "44a9963e",
   "metadata": {
    "execution": {
     "iopub.execute_input": "2022-09-05T15:07:20.181302Z",
     "iopub.status.busy": "2022-09-05T15:07:20.179652Z",
     "iopub.status.idle": "2022-09-05T15:07:20.185371Z",
     "shell.execute_reply": "2022-09-05T15:07:20.184530Z"
    },
    "id": "HjF7biGGEKML",
    "papermill": {
     "duration": 0.029394,
     "end_time": "2022-09-05T15:07:20.187374",
     "exception": false,
     "start_time": "2022-09-05T15:07:20.157980",
     "status": "completed"
    },
    "tags": []
   },
   "outputs": [],
   "source": [
    "optimizer = tf.keras.optimizers.Adam(0.0003,beta_1=0.9, beta_2=0.999,epsilon=1e-08)"
   ]
  },
  {
   "cell_type": "code",
   "execution_count": 18,
   "id": "bc2213f2",
   "metadata": {
    "execution": {
     "iopub.execute_input": "2022-09-05T15:07:20.230998Z",
     "iopub.status.busy": "2022-09-05T15:07:20.230699Z",
     "iopub.status.idle": "2022-09-05T15:07:20.236205Z",
     "shell.execute_reply": "2022-09-05T15:07:20.235185Z"
    },
    "id": "o-RrkE6mG9Zp",
    "papermill": {
     "duration": 0.029669,
     "end_time": "2022-09-05T15:07:20.238195",
     "exception": false,
     "start_time": "2022-09-05T15:07:20.208526",
     "status": "completed"
    },
    "tags": []
   },
   "outputs": [],
   "source": [
    "@tf.function\n",
    "def log_normal_pdf(sample, mean, logvar, raxis=1):\n",
    "    log2pi = tf.math.log(2. * np.pi)\n",
    "    return tf.reduce_sum(\n",
    "         -.5 * ((sample - mean) ** 2. * tf.exp(-logvar) + logvar + log2pi),\n",
    "          axis=raxis)"
   ]
  },
  {
   "cell_type": "code",
   "execution_count": 19,
   "id": "f360dc2f",
   "metadata": {
    "execution": {
     "iopub.execute_input": "2022-09-05T15:07:20.281370Z",
     "iopub.status.busy": "2022-09-05T15:07:20.281091Z",
     "iopub.status.idle": "2022-09-05T15:07:20.287293Z",
     "shell.execute_reply": "2022-09-05T15:07:20.286336Z"
    },
    "id": "KHmERgizHMAQ",
    "papermill": {
     "duration": 0.029688,
     "end_time": "2022-09-05T15:07:20.289281",
     "exception": false,
     "start_time": "2022-09-05T15:07:20.259593",
     "status": "completed"
    },
    "tags": []
   },
   "outputs": [],
   "source": [
    "@tf.function\n",
    "def compute_loss(model, x):\n",
    "    mean, logvar = model.encode(x)\n",
    "    z = model.reparameterize(mean, logvar)\n",
    "    x_logit = model.decode(z)\n",
    "    cross_ent = tf.nn.sigmoid_cross_entropy_with_logits(logits=x_logit, labels=x)\n",
    "    logpx_z = -tf.reduce_sum(cross_ent, axis=[1,2])\n",
    "    logpz = log_normal_pdf(z, 0., 0.)\n",
    "    logqz_x = log_normal_pdf(z, mean, logvar)\n",
    "    return -tf.reduce_mean(logpx_z + logpz - logqz_x)"
   ]
  },
  {
   "cell_type": "markdown",
   "id": "53d09333",
   "metadata": {
    "papermill": {
     "duration": 0.021201,
     "end_time": "2022-09-05T15:07:20.331615",
     "exception": false,
     "start_time": "2022-09-05T15:07:20.310414",
     "status": "completed"
    },
    "tags": []
   },
   "source": [
    "## Loss Optimization\n",
    "Here we have optimized two lossess, the **KL loss** and **reconstruction loss**.<br>"
   ]
  },
  {
   "cell_type": "markdown",
   "id": "a25bc615",
   "metadata": {
    "papermill": {
     "duration": 0.020919,
     "end_time": "2022-09-05T15:07:20.373371",
     "exception": false,
     "start_time": "2022-09-05T15:07:20.352452",
     "status": "completed"
    },
    "tags": []
   },
   "source": [
    "## Reconstruction loss\n",
    "As the name suggest, it measures the reconstruction of original input x. This network can be trained by minimizing the reconstruction error, which measures the differences between our original input and the consequent reconstruction."
   ]
  },
  {
   "cell_type": "code",
   "execution_count": 20,
   "id": "848cf3d9",
   "metadata": {
    "execution": {
     "iopub.execute_input": "2022-09-05T15:07:20.417210Z",
     "iopub.status.busy": "2022-09-05T15:07:20.416275Z",
     "iopub.status.idle": "2022-09-05T15:07:20.425298Z",
     "shell.execute_reply": "2022-09-05T15:07:20.424402Z"
    },
    "id": "PWi7z22ZHO_l",
    "papermill": {
     "duration": 0.033354,
     "end_time": "2022-09-05T15:07:20.427332",
     "exception": false,
     "start_time": "2022-09-05T15:07:20.393978",
     "status": "completed"
    },
    "tags": []
   },
   "outputs": [],
   "source": [
    "@tf.function\n",
    "def train_step(model, x, optimizer):\n",
    "    \n",
    "    \"\"\"Executes one training step and returns the loss.\n",
    "\n",
    "       This function computes the loss and gradients, and uses the latter to\n",
    "       update the model's parameters.\n",
    "     \"\"\"\n",
    "    with tf.GradientTape() as tape:\n",
    "            mean, logvar = model.encode(x)\n",
    "            z = model.reparameterize(mean, logvar)\n",
    "            x_logit = model.decode(z)\n",
    "            cross_ent = tf.nn.sigmoid_cross_entropy_with_logits(logits=x_logit, labels=x)\n",
    "            logpx_z = -tf.reduce_sum(cross_ent, axis=[1,2])\n",
    "            logpz = log_normal_pdf(z, 0., 0.)\n",
    "            logqz_x = log_normal_pdf(z, mean, logvar)\n",
    "            loss_KL = -tf.reduce_mean(logpx_z + logpz - logqz_x)\n",
    "            reconstruction_loss = tf.reduce_mean(\n",
    "                     tf.keras.losses.binary_crossentropy(x, x_logit)\n",
    "                 )\n",
    "            total_loss = reconstruction_loss+ loss_KL\n",
    "    gradients = tape.gradient(total_loss, model.trainable_variables)\n",
    "    optimizer.apply_gradients(zip(gradients, model.trainable_variables))"
   ]
  },
  {
   "cell_type": "code",
   "execution_count": 21,
   "id": "1ead8a62",
   "metadata": {
    "execution": {
     "iopub.execute_input": "2022-09-05T15:07:20.471570Z",
     "iopub.status.busy": "2022-09-05T15:07:20.471251Z",
     "iopub.status.idle": "2022-09-05T15:07:21.822326Z",
     "shell.execute_reply": "2022-09-05T15:07:21.821322Z"
    },
    "id": "zqtNDolCHSao",
    "papermill": {
     "duration": 1.376386,
     "end_time": "2022-09-05T15:07:21.824954",
     "exception": false,
     "start_time": "2022-09-05T15:07:20.448568",
     "status": "completed"
    },
    "tags": []
   },
   "outputs": [],
   "source": [
    "# keeping the random vector constant for generation (prediction) so\n",
    "# it will be easier to see the improvement.\n",
    "random_vector_for_generation = tf.random.normal(\n",
    "    shape=[num_examples_to_generate, latent_dim])\n",
    "model = CVAE(latent_dim)"
   ]
  },
  {
   "cell_type": "code",
   "execution_count": 22,
   "id": "33ed4b40",
   "metadata": {
    "execution": {
     "iopub.execute_input": "2022-09-05T15:07:21.870736Z",
     "iopub.status.busy": "2022-09-05T15:07:21.869912Z",
     "iopub.status.idle": "2022-09-05T15:07:21.878330Z",
     "shell.execute_reply": "2022-09-05T15:07:21.877493Z"
    },
    "id": "5YymBIlcnMmQ",
    "papermill": {
     "duration": 0.032562,
     "end_time": "2022-09-05T15:07:21.880331",
     "exception": false,
     "start_time": "2022-09-05T15:07:21.847769",
     "status": "completed"
    },
    "tags": []
   },
   "outputs": [],
   "source": [
    "import librosa.display\n",
    "save_sound=[]\n",
    "def generate_and_save_images(model, epoch, test_sample):\n",
    "    mean, logvar = model.encode(test_sample)\n",
    "    z = model.reparameterize(mean, logvar)\n",
    "    predictions = model.sample(z)\n",
    "    fig = plt.figure(figsize=(18, 15))\n",
    "\n",
    "    for i in range(predictions.shape[0]):\n",
    "        plt.subplot(4, 4, i + 1)\n",
    "        wave = np.asarray(predictions[i])\n",
    "        if epoch>14:\n",
    "            save_sound.append(wave)\n",
    "        #librosa.display.waveplot(wave[0], sr=96000)\n",
    "        librosa.display.waveshow(wave[0], sr=96000)      \n",
    "\n",
    "    # tight_layout minimizes the overlap between 2 sub-plots\n",
    "    plt.savefig('anomaly_{:04d}.png'.format(epoch))\n",
    "    plt.savefig('anomaly_{:04d}.png'.format(epoch))\n",
    "    plt.show()"
   ]
  },
  {
   "cell_type": "code",
   "execution_count": 23,
   "id": "ded5fa5a",
   "metadata": {
    "execution": {
     "iopub.execute_input": "2022-09-05T15:07:21.924772Z",
     "iopub.status.busy": "2022-09-05T15:07:21.923976Z",
     "iopub.status.idle": "2022-09-05T15:07:22.090791Z",
     "shell.execute_reply": "2022-09-05T15:07:22.089689Z"
    },
    "id": "qB-85OsqoU2B",
    "papermill": {
     "duration": 0.19347,
     "end_time": "2022-09-05T15:07:22.095058",
     "exception": false,
     "start_time": "2022-09-05T15:07:21.901588",
     "status": "completed"
    },
    "tags": []
   },
   "outputs": [
    {
     "name": "stderr",
     "output_type": "stream",
     "text": [
      "2022-09-05 15:07:21.947223: I tensorflow/compiler/mlir/mlir_graph_optimization_pass.cc:185] None of the MLIR Optimization Passes are enabled (registered 2)\n"
     ]
    }
   ],
   "source": [
    "# Pick a sample of the test set for generating output images\n",
    "assert BATCH_SIZE >= num_examples_to_generate\n",
    "for test_batch in test_dataset.take(1):\n",
    "    test_sample = test_batch[0]"
   ]
  },
  {
   "cell_type": "markdown",
   "id": "43aba984",
   "metadata": {
    "papermill": {
     "duration": 0.02084,
     "end_time": "2022-09-05T15:07:22.141958",
     "exception": false,
     "start_time": "2022-09-05T15:07:22.121118",
     "status": "completed"
    },
    "tags": []
   },
   "source": [
    "## Training the model"
   ]
  },
  {
   "cell_type": "code",
   "execution_count": 24,
   "id": "de1fc67d",
   "metadata": {
    "execution": {
     "iopub.execute_input": "2022-09-05T15:07:22.186953Z",
     "iopub.status.busy": "2022-09-05T15:07:22.186270Z",
     "iopub.status.idle": "2022-09-05T15:08:54.481489Z",
     "shell.execute_reply": "2022-09-05T15:08:54.480527Z"
    },
    "id": "hTt1sUZMYADG",
    "outputId": "df665fc3-de1b-4864-9858-53a671b030a2",
    "papermill": {
     "duration": 92.338432,
     "end_time": "2022-09-05T15:08:54.502303",
     "exception": false,
     "start_time": "2022-09-05T15:07:22.163871",
     "status": "completed"
    },
    "tags": []
   },
   "outputs": [
    {
     "name": "stdout",
     "output_type": "stream",
     "text": [
      "Epoch: 20, Test set ELBO: 114.40557098388672, time elapse for current epoch: 0.07177209854125977\n"
     ]
    },
    {
     "data": {
      "image/png": "[encoded data removed]",
      "text/plain": [
       "<Figure size 1296x1080 with 10 Axes>"
      ]
     },
     "metadata": {
      "needs_background": "light"
     },
     "output_type": "display_data"
    }
   ],
   "source": [
    "generate_and_save_images(model, 0, test_sample)\n",
    "#def train(train_dataset, test_dataset, model, save):\n",
    "for epoch in range(1, epochs + 1):\n",
    "        start_time = time.time()\n",
    "        for train_x in train_dataset:\n",
    "            train_x = np.asarray(train_x)[0]\n",
    "            train_step(model, train_x, optimizer)\n",
    "        end_time = time.time()\n",
    "\n",
    "        loss = tf.keras.metrics.Mean()\n",
    "        for test_x in test_dataset:\n",
    "            test_x = np.asarray(test_x)[0]\n",
    "            loss(compute_loss(model, test_x))\n",
    "        display.clear_output(wait=False)\n",
    "        elbo = -loss.result()\n",
    "        print('Epoch: {}, Test set ELBO: {}, time elapse for current epoch: {}'.format(epoch, elbo, end_time - start_time))\n",
    "        generate_and_save_images(model, epoch, test_sample)\n",
    "        #train(train_dataset, test_dataset, model, 'Anomaly')\n",
    "    "
   ]
  },
  {
   "cell_type": "code",
   "execution_count": 25,
   "id": "7a387b50",
   "metadata": {
    "execution": {
     "iopub.execute_input": "2022-09-05T15:08:54.547349Z",
     "iopub.status.busy": "2022-09-05T15:08:54.546737Z",
     "iopub.status.idle": "2022-09-05T15:08:57.609447Z",
     "shell.execute_reply": "2022-09-05T15:08:57.608445Z"
    },
    "id": "pQcs-r6cIoRd",
    "papermill": {
     "duration": 3.087829,
     "end_time": "2022-09-05T15:08:57.611878",
     "exception": false,
     "start_time": "2022-09-05T15:08:54.524049",
     "status": "completed"
    },
    "tags": []
   },
   "outputs": [],
   "source": [
    "anim_file_1 = 'anomaly_cvae.gif'\n",
    "#anim_file_1 = 'sound_cvae.gif'\n",
    "with imageio.get_writer(anim_file_1, mode='I') as writer:\n",
    "    filenames = glob.glob('anomaly*.png')\n",
    "    filenames = sorted(filenames)\n",
    "    for filename in filenames:\n",
    "        image = imageio.v3.imread(filename)\n",
    "        writer.append_data(image)\n",
    "    image = imageio.v3.imread(filename)\n",
    "    writer.append_data(image)"
   ]
  },
  {
   "cell_type": "markdown",
   "id": "4f2e392d",
   "metadata": {
    "papermill": {
     "duration": 0.022175,
     "end_time": "2022-09-05T15:08:57.656752",
     "exception": false,
     "start_time": "2022-09-05T15:08:57.634577",
     "status": "completed"
    },
    "tags": []
   },
   "source": [
    "## Visualization"
   ]
  },
  {
   "cell_type": "code",
   "execution_count": 26,
   "id": "76478753",
   "metadata": {
    "execution": {
     "iopub.execute_input": "2022-09-05T15:08:57.701985Z",
     "iopub.status.busy": "2022-09-05T15:08:57.701646Z",
     "iopub.status.idle": "2022-09-05T15:08:57.706023Z",
     "shell.execute_reply": "2022-09-05T15:08:57.704797Z"
    },
    "id": "4lTUTQTmIuRC",
    "outputId": "4e1e5790-033b-4c47-d561-34b4198ec84d",
    "papermill": {
     "duration": 0.02967,
     "end_time": "2022-09-05T15:08:57.708138",
     "exception": false,
     "start_time": "2022-09-05T15:08:57.678468",
     "status": "completed"
    },
    "tags": []
   },
   "outputs": [],
   "source": [
    "#import tensorflow_docs.vis.embed as embed\n",
    "#embed.embed_file(anim_file_1)"
   ]
  },
  {
   "cell_type": "markdown",
   "id": "dff6f665",
   "metadata": {
    "papermill": {
     "duration": 0.021593,
     "end_time": "2022-09-05T15:08:57.752131",
     "exception": false,
     "start_time": "2022-09-05T15:08:57.730538",
     "status": "completed"
    },
    "tags": []
   },
   "source": [
    "## Generated Sound\n",
    "We can listen to the generated sound by the model"
   ]
  },
  {
   "cell_type": "code",
   "execution_count": 27,
   "id": "7de46bcc",
   "metadata": {
    "execution": {
     "iopub.execute_input": "2022-09-05T15:08:57.797554Z",
     "iopub.status.busy": "2022-09-05T15:08:57.797177Z",
     "iopub.status.idle": "2022-09-05T15:08:57.801820Z",
     "shell.execute_reply": "2022-09-05T15:08:57.800858Z"
    },
    "papermill": {
     "duration": 0.030049,
     "end_time": "2022-09-05T15:08:57.804187",
     "exception": false,
     "start_time": "2022-09-05T15:08:57.774138",
     "status": "completed"
    },
    "tags": []
   },
   "outputs": [],
   "source": [
    "import soundfile as sf"
   ]
  },
  {
   "cell_type": "code",
   "execution_count": 28,
   "id": "8df6dec7",
   "metadata": {
    "execution": {
     "iopub.execute_input": "2022-09-05T15:08:57.850120Z",
     "iopub.status.busy": "2022-09-05T15:08:57.849832Z",
     "iopub.status.idle": "2022-09-05T15:08:57.854837Z",
     "shell.execute_reply": "2022-09-05T15:08:57.853876Z"
    },
    "papermill": {
     "duration": 0.031248,
     "end_time": "2022-09-05T15:08:57.857501",
     "exception": false,
     "start_time": "2022-09-05T15:08:57.826253",
     "status": "completed"
    },
    "tags": []
   },
   "outputs": [
    {
     "name": "stdout",
     "output_type": "stream",
     "text": [
      "60\n"
     ]
    }
   ],
   "source": [
    "x = len(save_sound) \n",
    "print(x)"
   ]
  },
  {
   "cell_type": "code",
   "execution_count": 29,
   "id": "16a3f705",
   "metadata": {
    "execution": {
     "iopub.execute_input": "2022-09-05T15:08:57.904091Z",
     "iopub.status.busy": "2022-09-05T15:08:57.903525Z",
     "iopub.status.idle": "2022-09-05T15:08:57.919591Z",
     "shell.execute_reply": "2022-09-05T15:08:57.918691Z"
    },
    "id": "Pu4LXmx1jF-2",
    "outputId": "3aa95bb4-eb5a-4ffb-9820-24e5db17bf59",
    "papermill": {
     "duration": 0.04099,
     "end_time": "2022-09-05T15:08:57.921526",
     "exception": false,
     "start_time": "2022-09-05T15:08:57.880536",
     "status": "completed"
    },
    "tags": []
   },
   "outputs": [],
   "source": [
    "b1=save_sound[0][0]\n",
    "ipd.Audio(b1,rate=96000)\n",
    "sf.write('gen1.wav', b1, 96000)  "
   ]
  },
  {
   "cell_type": "code",
   "execution_count": 30,
   "id": "399b9c4f",
   "metadata": {
    "execution": {
     "iopub.execute_input": "2022-09-05T15:08:57.967018Z",
     "iopub.status.busy": "2022-09-05T15:08:57.966726Z",
     "iopub.status.idle": "2022-09-05T15:08:57.978283Z",
     "shell.execute_reply": "2022-09-05T15:08:57.977399Z"
    },
    "papermill": {
     "duration": 0.036384,
     "end_time": "2022-09-05T15:08:57.980253",
     "exception": false,
     "start_time": "2022-09-05T15:08:57.943869",
     "status": "completed"
    },
    "tags": []
   },
   "outputs": [],
   "source": [
    "b2=save_sound[1][0]\n",
    "ipd.Audio(b2,rate=96000)\n",
    "sf.write('gen2.wav', b2, 96000)  "
   ]
  },
  {
   "cell_type": "code",
   "execution_count": 31,
   "id": "ecc70526",
   "metadata": {
    "execution": {
     "iopub.execute_input": "2022-09-05T15:08:58.025892Z",
     "iopub.status.busy": "2022-09-05T15:08:58.025391Z",
     "iopub.status.idle": "2022-09-05T15:08:58.036507Z",
     "shell.execute_reply": "2022-09-05T15:08:58.035645Z"
    },
    "papermill": {
     "duration": 0.036218,
     "end_time": "2022-09-05T15:08:58.038453",
     "exception": false,
     "start_time": "2022-09-05T15:08:58.002235",
     "status": "completed"
    },
    "tags": []
   },
   "outputs": [],
   "source": [
    "b3=save_sound[2][0]\n",
    "ipd.Audio(b3,rate=96000)\n",
    "sf.write('gen3.wav', b3, 96000)  "
   ]
  },
  {
   "cell_type": "code",
   "execution_count": 32,
   "id": "58bc2155",
   "metadata": {
    "execution": {
     "iopub.execute_input": "2022-09-05T15:08:58.083898Z",
     "iopub.status.busy": "2022-09-05T15:08:58.083309Z",
     "iopub.status.idle": "2022-09-05T15:08:58.095149Z",
     "shell.execute_reply": "2022-09-05T15:08:58.094290Z"
    },
    "papermill": {
     "duration": 0.036848,
     "end_time": "2022-09-05T15:08:58.097211",
     "exception": false,
     "start_time": "2022-09-05T15:08:58.060363",
     "status": "completed"
    },
    "tags": []
   },
   "outputs": [],
   "source": [
    "b4=save_sound[3][0]\n",
    "ipd.Audio(b4,rate=96000)\n",
    "sf.write('gen4.wav', b4, 96000)  "
   ]
  },
  {
   "cell_type": "code",
   "execution_count": 33,
   "id": "8acf8c78",
   "metadata": {
    "execution": {
     "iopub.execute_input": "2022-09-05T15:08:58.143707Z",
     "iopub.status.busy": "2022-09-05T15:08:58.142842Z",
     "iopub.status.idle": "2022-09-05T15:08:58.154042Z",
     "shell.execute_reply": "2022-09-05T15:08:58.153151Z"
    },
    "papermill": {
     "duration": 0.036552,
     "end_time": "2022-09-05T15:08:58.156273",
     "exception": false,
     "start_time": "2022-09-05T15:08:58.119721",
     "status": "completed"
    },
    "tags": []
   },
   "outputs": [],
   "source": [
    "b5=save_sound[4][0]\n",
    "ipd.Audio(b5,rate=96000)\n",
    "sf.write('gen5.wav', b5, 96000)  "
   ]
  },
  {
   "cell_type": "code",
   "execution_count": 34,
   "id": "2ce5b6bd",
   "metadata": {
    "execution": {
     "iopub.execute_input": "2022-09-05T15:08:58.202296Z",
     "iopub.status.busy": "2022-09-05T15:08:58.202004Z",
     "iopub.status.idle": "2022-09-05T15:08:58.214159Z",
     "shell.execute_reply": "2022-09-05T15:08:58.213278Z"
    },
    "papermill": {
     "duration": 0.03756,
     "end_time": "2022-09-05T15:08:58.216194",
     "exception": false,
     "start_time": "2022-09-05T15:08:58.178634",
     "status": "completed"
    },
    "tags": []
   },
   "outputs": [],
   "source": [
    "b6=save_sound[5][0]\n",
    "ipd.Audio(b6,rate=96000)\n",
    "sf.write('gen6.wav', b6, 96000)  "
   ]
  },
  {
   "cell_type": "code",
   "execution_count": 35,
   "id": "ab79b6ed",
   "metadata": {
    "execution": {
     "iopub.execute_input": "2022-09-05T15:08:58.262975Z",
     "iopub.status.busy": "2022-09-05T15:08:58.262676Z",
     "iopub.status.idle": "2022-09-05T15:08:58.273922Z",
     "shell.execute_reply": "2022-09-05T15:08:58.272811Z"
    },
    "papermill": {
     "duration": 0.0372,
     "end_time": "2022-09-05T15:08:58.275995",
     "exception": false,
     "start_time": "2022-09-05T15:08:58.238795",
     "status": "completed"
    },
    "tags": []
   },
   "outputs": [],
   "source": [
    "b7=save_sound[6][0]\n",
    "ipd.Audio(b7,rate=96000)\n",
    "sf.write('gen7.wav', b7, 96000)  "
   ]
  },
  {
   "cell_type": "code",
   "execution_count": 36,
   "id": "5f8bc36e",
   "metadata": {
    "execution": {
     "iopub.execute_input": "2022-09-05T15:08:58.324698Z",
     "iopub.status.busy": "2022-09-05T15:08:58.323210Z",
     "iopub.status.idle": "2022-09-05T15:08:58.335659Z",
     "shell.execute_reply": "2022-09-05T15:08:58.334455Z"
    },
    "papermill": {
     "duration": 0.03944,
     "end_time": "2022-09-05T15:08:58.337822",
     "exception": false,
     "start_time": "2022-09-05T15:08:58.298382",
     "status": "completed"
    },
    "tags": []
   },
   "outputs": [],
   "source": [
    "b8=save_sound[7][0]\n",
    "ipd.Audio(b8,rate=96000)\n",
    "sf.write('gen8.wav', b8, 96000)  "
   ]
  },
  {
   "cell_type": "code",
   "execution_count": 37,
   "id": "ebf814f8",
   "metadata": {
    "execution": {
     "iopub.execute_input": "2022-09-05T15:08:58.383991Z",
     "iopub.status.busy": "2022-09-05T15:08:58.383195Z",
     "iopub.status.idle": "2022-09-05T15:08:58.393876Z",
     "shell.execute_reply": "2022-09-05T15:08:58.393055Z"
    },
    "papermill": {
     "duration": 0.035769,
     "end_time": "2022-09-05T15:08:58.395923",
     "exception": false,
     "start_time": "2022-09-05T15:08:58.360154",
     "status": "completed"
    },
    "tags": []
   },
   "outputs": [],
   "source": [
    "b9=save_sound[8][0]\n",
    "ipd.Audio(b9,rate=96000)\n",
    "sf.write('gen9.wav', b9, 96000)  "
   ]
  },
  {
   "cell_type": "code",
   "execution_count": 38,
   "id": "7b67c80b",
   "metadata": {
    "execution": {
     "iopub.execute_input": "2022-09-05T15:08:58.441799Z",
     "iopub.status.busy": "2022-09-05T15:08:58.441515Z",
     "iopub.status.idle": "2022-09-05T15:08:58.452671Z",
     "shell.execute_reply": "2022-09-05T15:08:58.451515Z"
    },
    "papermill": {
     "duration": 0.036465,
     "end_time": "2022-09-05T15:08:58.454816",
     "exception": false,
     "start_time": "2022-09-05T15:08:58.418351",
     "status": "completed"
    },
    "tags": []
   },
   "outputs": [],
   "source": [
    "b10=save_sound[9][0]\n",
    "ipd.Audio(b10,rate=96000)\n",
    "sf.write('gen10.wav', b10, 96000)  "
   ]
  },
  {
   "cell_type": "code",
   "execution_count": 39,
   "id": "7c6fcbd0",
   "metadata": {
    "execution": {
     "iopub.execute_input": "2022-09-05T15:08:58.502189Z",
     "iopub.status.busy": "2022-09-05T15:08:58.501905Z",
     "iopub.status.idle": "2022-09-05T15:08:58.512627Z",
     "shell.execute_reply": "2022-09-05T15:08:58.511775Z"
    },
    "papermill": {
     "duration": 0.036677,
     "end_time": "2022-09-05T15:08:58.514656",
     "exception": false,
     "start_time": "2022-09-05T15:08:58.477979",
     "status": "completed"
    },
    "tags": []
   },
   "outputs": [],
   "source": [
    "b11=save_sound[10][0]\n",
    "ipd.Audio(b11,rate=96000)\n",
    "sf.write('gen11.wav', b11, 96000)  "
   ]
  },
  {
   "cell_type": "code",
   "execution_count": 40,
   "id": "4f687ef8",
   "metadata": {
    "execution": {
     "iopub.execute_input": "2022-09-05T15:08:58.561699Z",
     "iopub.status.busy": "2022-09-05T15:08:58.560846Z",
     "iopub.status.idle": "2022-09-05T15:08:58.572055Z",
     "shell.execute_reply": "2022-09-05T15:08:58.571097Z"
    },
    "papermill": {
     "duration": 0.036702,
     "end_time": "2022-09-05T15:08:58.574059",
     "exception": false,
     "start_time": "2022-09-05T15:08:58.537357",
     "status": "completed"
    },
    "tags": []
   },
   "outputs": [],
   "source": [
    "b12=save_sound[11][0]\n",
    "ipd.Audio(b12,rate=96000)\n",
    "sf.write('gen12.wav', b12, 96000)  "
   ]
  },
  {
   "cell_type": "code",
   "execution_count": 41,
   "id": "9ff410f4",
   "metadata": {
    "execution": {
     "iopub.execute_input": "2022-09-05T15:08:58.621039Z",
     "iopub.status.busy": "2022-09-05T15:08:58.620551Z",
     "iopub.status.idle": "2022-09-05T15:08:58.632458Z",
     "shell.execute_reply": "2022-09-05T15:08:58.631617Z"
    },
    "papermill": {
     "duration": 0.037117,
     "end_time": "2022-09-05T15:08:58.634771",
     "exception": false,
     "start_time": "2022-09-05T15:08:58.597654",
     "status": "completed"
    },
    "tags": []
   },
   "outputs": [],
   "source": [
    "b13=save_sound[12][0]\n",
    "ipd.Audio(b13,rate=96000)\n",
    "sf.write('gen13.wav', b13, 96000)  "
   ]
  },
  {
   "cell_type": "code",
   "execution_count": 42,
   "id": "0b146a01",
   "metadata": {
    "execution": {
     "iopub.execute_input": "2022-09-05T15:08:58.681069Z",
     "iopub.status.busy": "2022-09-05T15:08:58.680494Z",
     "iopub.status.idle": "2022-09-05T15:08:58.692772Z",
     "shell.execute_reply": "2022-09-05T15:08:58.691934Z"
    },
    "papermill": {
     "duration": 0.037344,
     "end_time": "2022-09-05T15:08:58.694837",
     "exception": false,
     "start_time": "2022-09-05T15:08:58.657493",
     "status": "completed"
    },
    "tags": []
   },
   "outputs": [],
   "source": [
    "b14=save_sound[13][0]\n",
    "ipd.Audio(b14,rate=96000)\n",
    "sf.write('gen14.wav', b14, 96000)  "
   ]
  },
  {
   "cell_type": "code",
   "execution_count": 43,
   "id": "5add6a90",
   "metadata": {
    "execution": {
     "iopub.execute_input": "2022-09-05T15:08:58.740966Z",
     "iopub.status.busy": "2022-09-05T15:08:58.740680Z",
     "iopub.status.idle": "2022-09-05T15:08:58.751693Z",
     "shell.execute_reply": "2022-09-05T15:08:58.750822Z"
    },
    "papermill": {
     "duration": 0.036569,
     "end_time": "2022-09-05T15:08:58.753997",
     "exception": false,
     "start_time": "2022-09-05T15:08:58.717428",
     "status": "completed"
    },
    "tags": []
   },
   "outputs": [],
   "source": [
    "b15=save_sound[14][0]\n",
    "ipd.Audio(b15,rate=96000)\n",
    "sf.write('gen15.wav', b15, 96000)  "
   ]
  },
  {
   "cell_type": "code",
   "execution_count": 44,
   "id": "75f94260",
   "metadata": {
    "execution": {
     "iopub.execute_input": "2022-09-05T15:08:58.801534Z",
     "iopub.status.busy": "2022-09-05T15:08:58.801170Z",
     "iopub.status.idle": "2022-09-05T15:08:58.813051Z",
     "shell.execute_reply": "2022-09-05T15:08:58.811900Z"
    },
    "papermill": {
     "duration": 0.038491,
     "end_time": "2022-09-05T15:08:58.815584",
     "exception": false,
     "start_time": "2022-09-05T15:08:58.777093",
     "status": "completed"
    },
    "tags": []
   },
   "outputs": [],
   "source": [
    "b16=save_sound[15][0]\n",
    "ipd.Audio(b16,rate=96000)\n",
    "sf.write('gen16.wav', b16, 96000)  "
   ]
  },
  {
   "cell_type": "code",
   "execution_count": 45,
   "id": "2e8d0c2d",
   "metadata": {
    "execution": {
     "iopub.execute_input": "2022-09-05T15:08:58.863244Z",
     "iopub.status.busy": "2022-09-05T15:08:58.862918Z",
     "iopub.status.idle": "2022-09-05T15:08:58.874791Z",
     "shell.execute_reply": "2022-09-05T15:08:58.873924Z"
    },
    "papermill": {
     "duration": 0.037414,
     "end_time": "2022-09-05T15:08:58.876749",
     "exception": false,
     "start_time": "2022-09-05T15:08:58.839335",
     "status": "completed"
    },
    "tags": []
   },
   "outputs": [],
   "source": [
    "b17=save_sound[16][0]\n",
    "ipd.Audio(b17,rate=96000)\n",
    "sf.write('gen17.wav', b17, 96000)  "
   ]
  },
  {
   "cell_type": "code",
   "execution_count": 46,
   "id": "6248448d",
   "metadata": {
    "execution": {
     "iopub.execute_input": "2022-09-05T15:08:58.922534Z",
     "iopub.status.busy": "2022-09-05T15:08:58.922198Z",
     "iopub.status.idle": "2022-09-05T15:08:58.933855Z",
     "shell.execute_reply": "2022-09-05T15:08:58.932966Z"
    },
    "papermill": {
     "duration": 0.036838,
     "end_time": "2022-09-05T15:08:58.935797",
     "exception": false,
     "start_time": "2022-09-05T15:08:58.898959",
     "status": "completed"
    },
    "tags": []
   },
   "outputs": [],
   "source": [
    "b18=save_sound[17][0]\n",
    "ipd.Audio(b18,rate=96000)\n",
    "sf.write('gen18.wav', b18, 96000)  "
   ]
  },
  {
   "cell_type": "code",
   "execution_count": 47,
   "id": "688b2189",
   "metadata": {
    "execution": {
     "iopub.execute_input": "2022-09-05T15:08:58.981886Z",
     "iopub.status.busy": "2022-09-05T15:08:58.981598Z",
     "iopub.status.idle": "2022-09-05T15:08:58.992890Z",
     "shell.execute_reply": "2022-09-05T15:08:58.992022Z"
    },
    "papermill": {
     "duration": 0.036542,
     "end_time": "2022-09-05T15:08:58.994990",
     "exception": false,
     "start_time": "2022-09-05T15:08:58.958448",
     "status": "completed"
    },
    "tags": []
   },
   "outputs": [],
   "source": [
    "b19=save_sound[18][0]\n",
    "ipd.Audio(b16,rate=96000)\n",
    "sf.write('gen19.wav', b19, 96000)  "
   ]
  },
  {
   "cell_type": "code",
   "execution_count": 48,
   "id": "985af22d",
   "metadata": {
    "execution": {
     "iopub.execute_input": "2022-09-05T15:08:59.042012Z",
     "iopub.status.busy": "2022-09-05T15:08:59.041724Z",
     "iopub.status.idle": "2022-09-05T15:08:59.053518Z",
     "shell.execute_reply": "2022-09-05T15:08:59.052677Z"
    },
    "papermill": {
     "duration": 0.037774,
     "end_time": "2022-09-05T15:08:59.055685",
     "exception": false,
     "start_time": "2022-09-05T15:08:59.017911",
     "status": "completed"
    },
    "tags": []
   },
   "outputs": [],
   "source": [
    "b20=save_sound[19][0]\n",
    "ipd.Audio(b20,rate=96000)\n",
    "sf.write('gen20.wav', b20, 96000)  "
   ]
  },
  {
   "cell_type": "code",
   "execution_count": 49,
   "id": "d16de0f9",
   "metadata": {
    "execution": {
     "iopub.execute_input": "2022-09-05T15:08:59.102664Z",
     "iopub.status.busy": "2022-09-05T15:08:59.101864Z",
     "iopub.status.idle": "2022-09-05T15:08:59.112804Z",
     "shell.execute_reply": "2022-09-05T15:08:59.111949Z"
    },
    "papermill": {
     "duration": 0.036163,
     "end_time": "2022-09-05T15:08:59.114669",
     "exception": false,
     "start_time": "2022-09-05T15:08:59.078506",
     "status": "completed"
    },
    "tags": []
   },
   "outputs": [],
   "source": [
    "b21=save_sound[20][0]\n",
    "ipd.Audio(b21,rate=96000)\n",
    "sf.write('gen21.wav', b21, 96000)  "
   ]
  },
  {
   "cell_type": "code",
   "execution_count": 50,
   "id": "f249ea7f",
   "metadata": {
    "execution": {
     "iopub.execute_input": "2022-09-05T15:08:59.160857Z",
     "iopub.status.busy": "2022-09-05T15:08:59.160560Z",
     "iopub.status.idle": "2022-09-05T15:08:59.171327Z",
     "shell.execute_reply": "2022-09-05T15:08:59.170370Z"
    },
    "papermill": {
     "duration": 0.036522,
     "end_time": "2022-09-05T15:08:59.173570",
     "exception": false,
     "start_time": "2022-09-05T15:08:59.137048",
     "status": "completed"
    },
    "tags": []
   },
   "outputs": [],
   "source": [
    "b22=save_sound[21][0]\n",
    "ipd.Audio(b22,rate=96000)\n",
    "sf.write('gen22.wav', b22, 96000)  "
   ]
  },
  {
   "cell_type": "code",
   "execution_count": 51,
   "id": "520b1f4c",
   "metadata": {
    "execution": {
     "iopub.execute_input": "2022-09-05T15:08:59.220679Z",
     "iopub.status.busy": "2022-09-05T15:08:59.219872Z",
     "iopub.status.idle": "2022-09-05T15:08:59.230895Z",
     "shell.execute_reply": "2022-09-05T15:08:59.229938Z"
    },
    "papermill": {
     "duration": 0.036524,
     "end_time": "2022-09-05T15:08:59.232934",
     "exception": false,
     "start_time": "2022-09-05T15:08:59.196410",
     "status": "completed"
    },
    "tags": []
   },
   "outputs": [],
   "source": [
    "b23=save_sound[22][0]\n",
    "ipd.Audio(b23,rate=96000)\n",
    "sf.write('gen23.wav', b23, 96000)  "
   ]
  },
  {
   "cell_type": "code",
   "execution_count": 52,
   "id": "2ffa1281",
   "metadata": {
    "execution": {
     "iopub.execute_input": "2022-09-05T15:08:59.280184Z",
     "iopub.status.busy": "2022-09-05T15:08:59.279882Z",
     "iopub.status.idle": "2022-09-05T15:08:59.291011Z",
     "shell.execute_reply": "2022-09-05T15:08:59.290160Z"
    },
    "papermill": {
     "duration": 0.037406,
     "end_time": "2022-09-05T15:08:59.293085",
     "exception": false,
     "start_time": "2022-09-05T15:08:59.255679",
     "status": "completed"
    },
    "tags": []
   },
   "outputs": [],
   "source": [
    "b24=save_sound[23][0]\n",
    "ipd.Audio(b24,rate=96000)\n",
    "sf.write('gen24.wav', b24, 96000)  "
   ]
  },
  {
   "cell_type": "code",
   "execution_count": 53,
   "id": "c9e33099",
   "metadata": {
    "execution": {
     "iopub.execute_input": "2022-09-05T15:08:59.340892Z",
     "iopub.status.busy": "2022-09-05T15:08:59.340103Z",
     "iopub.status.idle": "2022-09-05T15:08:59.351327Z",
     "shell.execute_reply": "2022-09-05T15:08:59.350515Z"
    },
    "papermill": {
     "duration": 0.036664,
     "end_time": "2022-09-05T15:08:59.353373",
     "exception": false,
     "start_time": "2022-09-05T15:08:59.316709",
     "status": "completed"
    },
    "tags": []
   },
   "outputs": [],
   "source": [
    "b25=save_sound[24][0]\n",
    "ipd.Audio(b25,rate=96000)\n",
    "sf.write('gen25.wav', b25, 96000)  "
   ]
  },
  {
   "cell_type": "code",
   "execution_count": 54,
   "id": "f85d090f",
   "metadata": {
    "execution": {
     "iopub.execute_input": "2022-09-05T15:08:59.401073Z",
     "iopub.status.busy": "2022-09-05T15:08:59.400151Z",
     "iopub.status.idle": "2022-09-05T15:08:59.411026Z",
     "shell.execute_reply": "2022-09-05T15:08:59.410171Z"
    },
    "papermill": {
     "duration": 0.036159,
     "end_time": "2022-09-05T15:08:59.413147",
     "exception": false,
     "start_time": "2022-09-05T15:08:59.376988",
     "status": "completed"
    },
    "tags": []
   },
   "outputs": [],
   "source": [
    "b26=save_sound[25][0]\n",
    "ipd.Audio(b26,rate=96000)\n",
    "sf.write('gen26.wav', b26, 96000)  "
   ]
  },
  {
   "cell_type": "code",
   "execution_count": 55,
   "id": "c78d049e",
   "metadata": {
    "execution": {
     "iopub.execute_input": "2022-09-05T15:08:59.459583Z",
     "iopub.status.busy": "2022-09-05T15:08:59.459237Z",
     "iopub.status.idle": "2022-09-05T15:08:59.470357Z",
     "shell.execute_reply": "2022-09-05T15:08:59.469515Z"
    },
    "papermill": {
     "duration": 0.036922,
     "end_time": "2022-09-05T15:08:59.472571",
     "exception": false,
     "start_time": "2022-09-05T15:08:59.435649",
     "status": "completed"
    },
    "tags": []
   },
   "outputs": [],
   "source": [
    "b27=save_sound[26][0]\n",
    "ipd.Audio(b27,rate=96000)\n",
    "sf.write('gen27.wav', b27, 96000)  "
   ]
  },
  {
   "cell_type": "code",
   "execution_count": 56,
   "id": "00eb9472",
   "metadata": {
    "execution": {
     "iopub.execute_input": "2022-09-05T15:08:59.520236Z",
     "iopub.status.busy": "2022-09-05T15:08:59.519950Z",
     "iopub.status.idle": "2022-09-05T15:08:59.530363Z",
     "shell.execute_reply": "2022-09-05T15:08:59.529515Z"
    },
    "papermill": {
     "duration": 0.036498,
     "end_time": "2022-09-05T15:08:59.532323",
     "exception": false,
     "start_time": "2022-09-05T15:08:59.495825",
     "status": "completed"
    },
    "tags": []
   },
   "outputs": [],
   "source": [
    "b28=save_sound[27][0]\n",
    "ipd.Audio(b28,rate=96000)\n",
    "sf.write('gen28.wav', b28, 96000)  "
   ]
  },
  {
   "cell_type": "code",
   "execution_count": 57,
   "id": "3d53cc70",
   "metadata": {
    "execution": {
     "iopub.execute_input": "2022-09-05T15:08:59.583310Z",
     "iopub.status.busy": "2022-09-05T15:08:59.581590Z",
     "iopub.status.idle": "2022-09-05T15:08:59.592903Z",
     "shell.execute_reply": "2022-09-05T15:08:59.592047Z"
    },
    "papermill": {
     "duration": 0.037744,
     "end_time": "2022-09-05T15:08:59.595083",
     "exception": false,
     "start_time": "2022-09-05T15:08:59.557339",
     "status": "completed"
    },
    "tags": []
   },
   "outputs": [],
   "source": [
    "b29=save_sound[28][0]\n",
    "ipd.Audio(b29,rate=96000)\n",
    "sf.write('gen29.wav', b29, 96000)  "
   ]
  },
  {
   "cell_type": "code",
   "execution_count": 58,
   "id": "41e29c9a",
   "metadata": {
    "execution": {
     "iopub.execute_input": "2022-09-05T15:08:59.644411Z",
     "iopub.status.busy": "2022-09-05T15:08:59.642913Z",
     "iopub.status.idle": "2022-09-05T15:08:59.654178Z",
     "shell.execute_reply": "2022-09-05T15:08:59.653336Z"
    },
    "papermill": {
     "duration": 0.036985,
     "end_time": "2022-09-05T15:08:59.656178",
     "exception": false,
     "start_time": "2022-09-05T15:08:59.619193",
     "status": "completed"
    },
    "tags": []
   },
   "outputs": [],
   "source": [
    "b30=save_sound[29][0]\n",
    "ipd.Audio(b30,rate=96000)\n",
    "sf.write('gen30.wav', b30, 96000)  "
   ]
  },
  {
   "cell_type": "code",
   "execution_count": 59,
   "id": "a1632dbe",
   "metadata": {
    "execution": {
     "iopub.execute_input": "2022-09-05T15:08:59.703082Z",
     "iopub.status.busy": "2022-09-05T15:08:59.702809Z",
     "iopub.status.idle": "2022-09-05T15:08:59.713532Z",
     "shell.execute_reply": "2022-09-05T15:08:59.712715Z"
    },
    "papermill": {
     "duration": 0.036059,
     "end_time": "2022-09-05T15:08:59.715433",
     "exception": false,
     "start_time": "2022-09-05T15:08:59.679374",
     "status": "completed"
    },
    "tags": []
   },
   "outputs": [],
   "source": [
    "b31=save_sound[30][0]\n",
    "ipd.Audio(b31,rate=96000)\n",
    "sf.write('gen31.wav', b31, 96000)  "
   ]
  },
  {
   "cell_type": "code",
   "execution_count": 60,
   "id": "b1cdf93c",
   "metadata": {
    "execution": {
     "iopub.execute_input": "2022-09-05T15:08:59.762946Z",
     "iopub.status.busy": "2022-09-05T15:08:59.762532Z",
     "iopub.status.idle": "2022-09-05T15:08:59.773404Z",
     "shell.execute_reply": "2022-09-05T15:08:59.772592Z"
    },
    "papermill": {
     "duration": 0.036734,
     "end_time": "2022-09-05T15:08:59.775434",
     "exception": false,
     "start_time": "2022-09-05T15:08:59.738700",
     "status": "completed"
    },
    "tags": []
   },
   "outputs": [],
   "source": [
    "b32=save_sound[31][0]\n",
    "ipd.Audio(b32,rate=96000)\n",
    "sf.write('gen32.wav', b32, 96000)  "
   ]
  },
  {
   "cell_type": "code",
   "execution_count": 61,
   "id": "89e36a7a",
   "metadata": {
    "execution": {
     "iopub.execute_input": "2022-09-05T15:08:59.825190Z",
     "iopub.status.busy": "2022-09-05T15:08:59.823399Z",
     "iopub.status.idle": "2022-09-05T15:08:59.835691Z",
     "shell.execute_reply": "2022-09-05T15:08:59.834777Z"
    },
    "papermill": {
     "duration": 0.038432,
     "end_time": "2022-09-05T15:08:59.837868",
     "exception": false,
     "start_time": "2022-09-05T15:08:59.799436",
     "status": "completed"
    },
    "tags": []
   },
   "outputs": [],
   "source": [
    "b33=save_sound[32][0]\n",
    "ipd.Audio(b33,rate=96000)\n",
    "sf.write('gen33.wav', b33, 96000)  "
   ]
  },
  {
   "cell_type": "code",
   "execution_count": 62,
   "id": "c2607f97",
   "metadata": {
    "execution": {
     "iopub.execute_input": "2022-09-05T15:08:59.885637Z",
     "iopub.status.busy": "2022-09-05T15:08:59.885281Z",
     "iopub.status.idle": "2022-09-05T15:08:59.896131Z",
     "shell.execute_reply": "2022-09-05T15:08:59.895270Z"
    },
    "papermill": {
     "duration": 0.036636,
     "end_time": "2022-09-05T15:08:59.898097",
     "exception": false,
     "start_time": "2022-09-05T15:08:59.861461",
     "status": "completed"
    },
    "tags": []
   },
   "outputs": [],
   "source": [
    "b34=save_sound[33][0]\n",
    "ipd.Audio(b34,rate=96000)\n",
    "sf.write('gen34.wav', b34, 96000)  "
   ]
  },
  {
   "cell_type": "code",
   "execution_count": 63,
   "id": "fdfd9a42",
   "metadata": {
    "execution": {
     "iopub.execute_input": "2022-09-05T15:08:59.946094Z",
     "iopub.status.busy": "2022-09-05T15:08:59.945250Z",
     "iopub.status.idle": "2022-09-05T15:08:59.957451Z",
     "shell.execute_reply": "2022-09-05T15:08:59.956591Z"
    },
    "papermill": {
     "duration": 0.038128,
     "end_time": "2022-09-05T15:08:59.959573",
     "exception": false,
     "start_time": "2022-09-05T15:08:59.921445",
     "status": "completed"
    },
    "tags": []
   },
   "outputs": [],
   "source": [
    "b35=save_sound[34][0]\n",
    "ipd.Audio(b35,rate=96000)\n",
    "sf.write('gen35.wav', b35, 96000)  "
   ]
  },
  {
   "cell_type": "code",
   "execution_count": 64,
   "id": "30b3ba79",
   "metadata": {
    "execution": {
     "iopub.execute_input": "2022-09-05T15:09:00.007756Z",
     "iopub.status.busy": "2022-09-05T15:09:00.006914Z",
     "iopub.status.idle": "2022-09-05T15:09:00.018019Z",
     "shell.execute_reply": "2022-09-05T15:09:00.017164Z"
    },
    "papermill": {
     "duration": 0.036881,
     "end_time": "2022-09-05T15:09:00.020047",
     "exception": false,
     "start_time": "2022-09-05T15:08:59.983166",
     "status": "completed"
    },
    "tags": []
   },
   "outputs": [],
   "source": [
    "b36=save_sound[35][0]\n",
    "ipd.Audio(b36,rate=96000)\n",
    "sf.write('gen36.wav', b36, 96000)  "
   ]
  },
  {
   "cell_type": "code",
   "execution_count": 65,
   "id": "7eb4a1ec",
   "metadata": {
    "execution": {
     "iopub.execute_input": "2022-09-05T15:09:00.068343Z",
     "iopub.status.busy": "2022-09-05T15:09:00.068040Z",
     "iopub.status.idle": "2022-09-05T15:09:00.078582Z",
     "shell.execute_reply": "2022-09-05T15:09:00.077723Z"
    },
    "papermill": {
     "duration": 0.036945,
     "end_time": "2022-09-05T15:09:00.080740",
     "exception": false,
     "start_time": "2022-09-05T15:09:00.043795",
     "status": "completed"
    },
    "tags": []
   },
   "outputs": [],
   "source": [
    "b37=save_sound[36][0]\n",
    "ipd.Audio(b37,rate=96000)\n",
    "sf.write('gen37.wav', b37, 96000)  "
   ]
  },
  {
   "cell_type": "code",
   "execution_count": 66,
   "id": "b27cecd0",
   "metadata": {
    "execution": {
     "iopub.execute_input": "2022-09-05T15:09:00.129699Z",
     "iopub.status.busy": "2022-09-05T15:09:00.128858Z",
     "iopub.status.idle": "2022-09-05T15:09:00.140709Z",
     "shell.execute_reply": "2022-09-05T15:09:00.139859Z"
    },
    "papermill": {
     "duration": 0.038422,
     "end_time": "2022-09-05T15:09:00.142722",
     "exception": false,
     "start_time": "2022-09-05T15:09:00.104300",
     "status": "completed"
    },
    "tags": []
   },
   "outputs": [],
   "source": [
    "b38=save_sound[37][0]\n",
    "ipd.Audio(b38,rate=96000)\n",
    "sf.write('gen38.wav', b38, 96000)  "
   ]
  },
  {
   "cell_type": "code",
   "execution_count": 67,
   "id": "a146a071",
   "metadata": {
    "execution": {
     "iopub.execute_input": "2022-09-05T15:09:00.190978Z",
     "iopub.status.busy": "2022-09-05T15:09:00.190652Z",
     "iopub.status.idle": "2022-09-05T15:09:00.201274Z",
     "shell.execute_reply": "2022-09-05T15:09:00.200372Z"
    },
    "papermill": {
     "duration": 0.036741,
     "end_time": "2022-09-05T15:09:00.203289",
     "exception": false,
     "start_time": "2022-09-05T15:09:00.166548",
     "status": "completed"
    },
    "tags": []
   },
   "outputs": [],
   "source": [
    "b39=save_sound[38][0]\n",
    "ipd.Audio(b39,rate=96000)\n",
    "sf.write('gen39.wav', b39, 96000)  "
   ]
  },
  {
   "cell_type": "code",
   "execution_count": 68,
   "id": "c0295a95",
   "metadata": {
    "execution": {
     "iopub.execute_input": "2022-09-05T15:09:00.251581Z",
     "iopub.status.busy": "2022-09-05T15:09:00.251264Z",
     "iopub.status.idle": "2022-09-05T15:09:00.261894Z",
     "shell.execute_reply": "2022-09-05T15:09:00.261033Z"
    },
    "papermill": {
     "duration": 0.037142,
     "end_time": "2022-09-05T15:09:00.263881",
     "exception": false,
     "start_time": "2022-09-05T15:09:00.226739",
     "status": "completed"
    },
    "tags": []
   },
   "outputs": [],
   "source": [
    "b40=save_sound[39][0]\n",
    "ipd.Audio(b40,rate=96000)\n",
    "sf.write('gen40.wav', b40, 96000)  "
   ]
  },
  {
   "cell_type": "code",
   "execution_count": 69,
   "id": "b8edf76a",
   "metadata": {
    "execution": {
     "iopub.execute_input": "2022-09-05T15:09:00.313353Z",
     "iopub.status.busy": "2022-09-05T15:09:00.311735Z",
     "iopub.status.idle": "2022-09-05T15:09:00.323531Z",
     "shell.execute_reply": "2022-09-05T15:09:00.322515Z"
    },
    "papermill": {
     "duration": 0.038121,
     "end_time": "2022-09-05T15:09:00.325695",
     "exception": false,
     "start_time": "2022-09-05T15:09:00.287574",
     "status": "completed"
    },
    "tags": []
   },
   "outputs": [],
   "source": [
    "b41=save_sound[40][0]\n",
    "ipd.Audio(b41,rate=96000)\n",
    "sf.write('gen41.wav', b41, 96000)  "
   ]
  },
  {
   "cell_type": "code",
   "execution_count": 70,
   "id": "d20d72ec",
   "metadata": {
    "execution": {
     "iopub.execute_input": "2022-09-05T15:09:00.374721Z",
     "iopub.status.busy": "2022-09-05T15:09:00.373248Z",
     "iopub.status.idle": "2022-09-05T15:09:00.385354Z",
     "shell.execute_reply": "2022-09-05T15:09:00.384365Z"
    },
    "papermill": {
     "duration": 0.038797,
     "end_time": "2022-09-05T15:09:00.387880",
     "exception": false,
     "start_time": "2022-09-05T15:09:00.349083",
     "status": "completed"
    },
    "tags": []
   },
   "outputs": [],
   "source": [
    "b42=save_sound[41][0]\n",
    "ipd.Audio(b42,rate=96000)\n",
    "sf.write('gen42.wav', b42, 96000)  "
   ]
  },
  {
   "cell_type": "code",
   "execution_count": 71,
   "id": "4a175572",
   "metadata": {
    "execution": {
     "iopub.execute_input": "2022-09-05T15:09:00.438578Z",
     "iopub.status.busy": "2022-09-05T15:09:00.438276Z",
     "iopub.status.idle": "2022-09-05T15:09:00.449002Z",
     "shell.execute_reply": "2022-09-05T15:09:00.448143Z"
    },
    "papermill": {
     "duration": 0.037439,
     "end_time": "2022-09-05T15:09:00.451132",
     "exception": false,
     "start_time": "2022-09-05T15:09:00.413693",
     "status": "completed"
    },
    "tags": []
   },
   "outputs": [],
   "source": [
    "b43=save_sound[42][0]\n",
    "ipd.Audio(b43,rate=96000)\n",
    "sf.write('gen43.wav', b43, 96000)  "
   ]
  },
  {
   "cell_type": "code",
   "execution_count": 72,
   "id": "0a85d2ce",
   "metadata": {
    "execution": {
     "iopub.execute_input": "2022-09-05T15:09:00.499772Z",
     "iopub.status.busy": "2022-09-05T15:09:00.498912Z",
     "iopub.status.idle": "2022-09-05T15:09:00.509690Z",
     "shell.execute_reply": "2022-09-05T15:09:00.508817Z"
    },
    "papermill": {
     "duration": 0.037252,
     "end_time": "2022-09-05T15:09:00.511660",
     "exception": false,
     "start_time": "2022-09-05T15:09:00.474408",
     "status": "completed"
    },
    "tags": []
   },
   "outputs": [],
   "source": [
    "b44=save_sound[43][0]\n",
    "ipd.Audio(b44,rate=96000)\n",
    "sf.write('gen44.wav', b44, 96000)  "
   ]
  },
  {
   "cell_type": "code",
   "execution_count": 73,
   "id": "b616508d",
   "metadata": {
    "execution": {
     "iopub.execute_input": "2022-09-05T15:09:00.561026Z",
     "iopub.status.busy": "2022-09-05T15:09:00.560255Z",
     "iopub.status.idle": "2022-09-05T15:09:00.572931Z",
     "shell.execute_reply": "2022-09-05T15:09:00.572087Z"
    },
    "papermill": {
     "duration": 0.039247,
     "end_time": "2022-09-05T15:09:00.574974",
     "exception": false,
     "start_time": "2022-09-05T15:09:00.535727",
     "status": "completed"
    },
    "tags": []
   },
   "outputs": [],
   "source": [
    "b45=save_sound[44][0]\n",
    "ipd.Audio(b45,rate=96000)\n",
    "sf.write('gen45.wav', b45, 96000)  "
   ]
  },
  {
   "cell_type": "code",
   "execution_count": 74,
   "id": "bf7c9f44",
   "metadata": {
    "execution": {
     "iopub.execute_input": "2022-09-05T15:09:00.623812Z",
     "iopub.status.busy": "2022-09-05T15:09:00.623012Z",
     "iopub.status.idle": "2022-09-05T15:09:00.634247Z",
     "shell.execute_reply": "2022-09-05T15:09:00.633402Z"
    },
    "papermill": {
     "duration": 0.038174,
     "end_time": "2022-09-05T15:09:00.636565",
     "exception": false,
     "start_time": "2022-09-05T15:09:00.598391",
     "status": "completed"
    },
    "tags": []
   },
   "outputs": [],
   "source": [
    "b46=save_sound[45][0]\n",
    "ipd.Audio(b46,rate=96000)\n",
    "sf.write('gen46.wav', b46, 96000)  "
   ]
  },
  {
   "cell_type": "code",
   "execution_count": 75,
   "id": "9c9a6493",
   "metadata": {
    "execution": {
     "iopub.execute_input": "2022-09-05T15:09:00.685653Z",
     "iopub.status.busy": "2022-09-05T15:09:00.685344Z",
     "iopub.status.idle": "2022-09-05T15:09:00.696181Z",
     "shell.execute_reply": "2022-09-05T15:09:00.695314Z"
    },
    "papermill": {
     "duration": 0.03771,
     "end_time": "2022-09-05T15:09:00.698164",
     "exception": false,
     "start_time": "2022-09-05T15:09:00.660454",
     "status": "completed"
    },
    "tags": []
   },
   "outputs": [],
   "source": [
    "b47=save_sound[46][0]\n",
    "ipd.Audio(b47,rate=96000)\n",
    "sf.write('gen47.wav', b47, 96000)  "
   ]
  },
  {
   "cell_type": "code",
   "execution_count": 76,
   "id": "55ffe45b",
   "metadata": {
    "execution": {
     "iopub.execute_input": "2022-09-05T15:09:00.762684Z",
     "iopub.status.busy": "2022-09-05T15:09:00.762119Z",
     "iopub.status.idle": "2022-09-05T15:09:00.773559Z",
     "shell.execute_reply": "2022-09-05T15:09:00.772673Z"
    },
    "papermill": {
     "duration": 0.051768,
     "end_time": "2022-09-05T15:09:00.775598",
     "exception": false,
     "start_time": "2022-09-05T15:09:00.723830",
     "status": "completed"
    },
    "tags": []
   },
   "outputs": [],
   "source": [
    "b48=save_sound[47][0]\n",
    "ipd.Audio(b48,rate=96000)\n",
    "sf.write('gen48.wav', b48, 96000)  "
   ]
  },
  {
   "cell_type": "code",
   "execution_count": 77,
   "id": "b1ff4f99",
   "metadata": {
    "execution": {
     "iopub.execute_input": "2022-09-05T15:09:00.824720Z",
     "iopub.status.busy": "2022-09-05T15:09:00.823898Z",
     "iopub.status.idle": "2022-09-05T15:09:00.886499Z",
     "shell.execute_reply": "2022-09-05T15:09:00.885346Z"
    },
    "papermill": {
     "duration": 0.089427,
     "end_time": "2022-09-05T15:09:00.888824",
     "exception": false,
     "start_time": "2022-09-05T15:09:00.799397",
     "status": "completed"
    },
    "tags": []
   },
   "outputs": [
    {
     "name": "stderr",
     "output_type": "stream",
     "text": [
      "2022-09-05 15:09:00.879008: I tensorflow/stream_executor/cuda/cuda_gpu_executor.cc:937] successful NUMA node read from SysFS had negative value (-1), but there must be at least one NUMA node, so returning NUMA node zero\n",
      "2022-09-05 15:09:00.880180: I tensorflow/stream_executor/cuda/cuda_gpu_executor.cc:937] successful NUMA node read from SysFS had negative value (-1), but there must be at least one NUMA node, so returning NUMA node zero\n",
      "2022-09-05 15:09:00.881088: I tensorflow/stream_executor/cuda/cuda_gpu_executor.cc:937] successful NUMA node read from SysFS had negative value (-1), but there must be at least one NUMA node, so returning NUMA node zero\n",
      "2022-09-05 15:09:00.881793: I tensorflow/stream_executor/cuda/cuda_gpu_executor.cc:937] successful NUMA node read from SysFS had negative value (-1), but there must be at least one NUMA node, so returning NUMA node zero\n",
      "2022-09-05 15:09:00.882391: I tensorflow/stream_executor/cuda/cuda_gpu_executor.cc:937] successful NUMA node read from SysFS had negative value (-1), but there must be at least one NUMA node, so returning NUMA node zero\n",
      "2022-09-05 15:09:00.882821: I tensorflow/core/common_runtime/gpu/gpu_device.cc:1510] Created device /job:localhost/replica:0/task:0/device:GPU:0 with 15401 MB memory:  -> device: 0, name: Tesla P100-PCIE-16GB, pci bus id: 0000:00:04.0, compute capability: 6.0\n"
     ]
    }
   ],
   "source": [
    "tf.keras.backend.clear_session()\n",
    "tf.compat.v1.reset_default_graph()\n",
    "tf.compat.v1.set_random_seed(seed)\n",
    "session_conf = tf.compat.v1.ConfigProto(intra_op_parallelism_threads=1, inter_op_parallelism_threads=1)\n",
    "sess = tf.compat.v1.Session(graph=tf.compat.v1.get_default_graph(), config=session_conf)\n",
    "tf.compat.v1.keras.backend.set_session(sess)"
   ]
  },
  {
   "cell_type": "markdown",
   "id": "2614da32",
   "metadata": {
    "papermill": {
     "duration": 0.024122,
     "end_time": "2022-09-05T15:09:00.937009",
     "exception": false,
     "start_time": "2022-09-05T15:09:00.912887",
     "status": "completed"
    },
    "tags": []
   },
   "source": [
    "The same experiment for sounds in the \"Normal\" category"
   ]
  },
  {
   "cell_type": "code",
   "execution_count": 78,
   "id": "6ace5eb2",
   "metadata": {
    "execution": {
     "iopub.execute_input": "2022-09-05T15:09:00.986021Z",
     "iopub.status.busy": "2022-09-05T15:09:00.985663Z",
     "iopub.status.idle": "2022-09-05T15:09:01.014880Z",
     "shell.execute_reply": "2022-09-05T15:09:01.013932Z"
    },
    "id": "GzuXzwyej7YR",
    "papermill": {
     "duration": 0.056681,
     "end_time": "2022-09-05T15:09:01.017351",
     "exception": false,
     "start_time": "2022-09-05T15:09:00.960670",
     "status": "completed"
    },
    "tags": []
   },
   "outputs": [],
   "source": [
    "TrackSet_3, TrackSet_4 = DatasetLoader('Normal')"
   ]
  },
  {
   "cell_type": "code",
   "execution_count": 79,
   "id": "c7cf8b6e",
   "metadata": {
    "execution": {
     "iopub.execute_input": "2022-09-05T15:09:01.067072Z",
     "iopub.status.busy": "2022-09-05T15:09:01.066753Z",
     "iopub.status.idle": "2022-09-05T15:09:01.085787Z",
     "shell.execute_reply": "2022-09-05T15:09:01.084921Z"
    },
    "id": "Q6r8z_nkMV5x",
    "papermill": {
     "duration": 0.046665,
     "end_time": "2022-09-05T15:09:01.088011",
     "exception": false,
     "start_time": "2022-09-05T15:09:01.041346",
     "status": "completed"
    },
    "tags": []
   },
   "outputs": [],
   "source": [
    "train_dataset = (\n",
    "    tf.data.Dataset\n",
    "    .from_tensor_slices((TrackSet_3))\n",
    "    .map(map_data, num_parallel_calls=AUTOTUNE)\n",
    "    .shuffle(3)\n",
    "    .batch(BATCH_SIZE)\n",
    ")\n",
    "test_dataset = (\n",
    "    tf.data.Dataset\n",
    "    .from_tensor_slices((TrackSet_4))\n",
    "    .map(map_data, num_parallel_calls=AUTOTUNE)\n",
    "    .shuffle(3)\n",
    "    .batch(BATCH_SIZE)\n",
    ")"
   ]
  },
  {
   "cell_type": "code",
   "execution_count": 80,
   "id": "9a740f41",
   "metadata": {
    "execution": {
     "iopub.execute_input": "2022-09-05T15:09:01.138719Z",
     "iopub.status.busy": "2022-09-05T15:09:01.137205Z",
     "iopub.status.idle": "2022-09-05T15:09:01.221373Z",
     "shell.execute_reply": "2022-09-05T15:09:01.220383Z"
    },
    "papermill": {
     "duration": 0.112238,
     "end_time": "2022-09-05T15:09:01.224595",
     "exception": false,
     "start_time": "2022-09-05T15:09:01.112357",
     "status": "completed"
    },
    "tags": []
   },
   "outputs": [],
   "source": [
    "@tf.function\n",
    "def log_normal_pdf(sample, mean, logvar, raxis=1):\n",
    "    log2pi = tf.math.log(2. * np.pi)\n",
    "    return tf.reduce_sum(\n",
    "         -.5 * ((sample - mean) ** 2. * tf.exp(-logvar) + logvar + log2pi),\n",
    "          axis=raxis)\n",
    "@tf.function\n",
    "def compute_loss(model, x):\n",
    "    mean, logvar = model.encode(x)\n",
    "    z = model.reparameterize(mean, logvar)\n",
    "    x_logit = model.decode(z)\n",
    "    cross_ent = tf.nn.sigmoid_cross_entropy_with_logits(logits=x_logit, labels=x)\n",
    "    logpx_z = -tf.reduce_sum(cross_ent, axis=[1,2])\n",
    "    logpz = log_normal_pdf(z, 0., 0.)\n",
    "    logqz_x = log_normal_pdf(z, mean, logvar)\n",
    "    return -tf.reduce_mean(logpx_z + logpz - logqz_x)\n",
    "@tf.function\n",
    "def train_step(model, x, optimizer):\n",
    "    \n",
    "    \"\"\"Executes one training step and returns the loss.\n",
    "\n",
    "       This function computes the loss and gradients, and uses the latter to\n",
    "       update the model's parameters.\n",
    "     \"\"\"\n",
    "    with tf.GradientTape() as tape:\n",
    "            mean, logvar = model.encode(x)\n",
    "            z = model.reparameterize(mean, logvar)\n",
    "            x_logit = model.decode(z)\n",
    "            cross_ent = tf.nn.sigmoid_cross_entropy_with_logits(logits=x_logit, labels=x)\n",
    "            logpx_z = -tf.reduce_sum(cross_ent, axis=[1,2])\n",
    "            logpz = log_normal_pdf(z, 0., 0.)\n",
    "            logqz_x = log_normal_pdf(z, mean, logvar)\n",
    "            loss_KL = -tf.reduce_mean(logpx_z + logpz - logqz_x)\n",
    "            reconstruction_loss = tf.reduce_mean(\n",
    "                     tf.keras.losses.binary_crossentropy(x, x_logit)\n",
    "                 )\n",
    "            total_loss = reconstruction_loss+ loss_KL\n",
    "    gradients = tape.gradient(total_loss, model.trainable_variables)\n",
    "    optimizer.apply_gradients(zip(gradients, model.trainable_variables))"
   ]
  },
  {
   "cell_type": "code",
   "execution_count": 81,
   "id": "01ca5eb5",
   "metadata": {
    "execution": {
     "iopub.execute_input": "2022-09-05T15:09:01.276746Z",
     "iopub.status.busy": "2022-09-05T15:09:01.274961Z",
     "iopub.status.idle": "2022-09-05T15:09:02.196803Z",
     "shell.execute_reply": "2022-09-05T15:09:02.195799Z"
    },
    "id": "SqseIbNKMe2X",
    "papermill": {
     "duration": 0.951377,
     "end_time": "2022-09-05T15:09:02.201245",
     "exception": false,
     "start_time": "2022-09-05T15:09:01.249868",
     "status": "completed"
    },
    "tags": []
   },
   "outputs": [],
   "source": [
    "random_vector_for_generation = tf.random.normal(\n",
    "    shape=[num_examples_to_generate, latent_dim])\n",
    "model = CVAE(latent_dim)"
   ]
  },
  {
   "cell_type": "code",
   "execution_count": 82,
   "id": "814a2b4b",
   "metadata": {
    "execution": {
     "iopub.execute_input": "2022-09-05T15:09:02.253722Z",
     "iopub.status.busy": "2022-09-05T15:09:02.252007Z",
     "iopub.status.idle": "2022-09-05T15:09:02.261760Z",
     "shell.execute_reply": "2022-09-05T15:09:02.260772Z"
    },
    "id": "faLIyex_MtX8",
    "papermill": {
     "duration": 0.037858,
     "end_time": "2022-09-05T15:09:02.263761",
     "exception": false,
     "start_time": "2022-09-05T15:09:02.225903",
     "status": "completed"
    },
    "tags": []
   },
   "outputs": [],
   "source": [
    "import librosa.display\n",
    "\n",
    "save_sound_U=[]\n",
    "def generate_and_save_images(model, epoch, test_sample):\n",
    "    mean, logvar = model.encode(test_sample)\n",
    "    z = model.reparameterize(mean, logvar)\n",
    "    predictions = model.sample(z)\n",
    "    fig = plt.figure(figsize=(18, 15))\n",
    "\n",
    "    for i in range(predictions.shape[0]):\n",
    "        plt.subplot(4, 4, i + 1)\n",
    "        wave = np.asarray(predictions[i])\n",
    "        if epoch>15:\n",
    "            save_sound_U.append(wave)\n",
    "        librosa.display.waveshow(wave[0], sr=96000)\n",
    "\n",
    "    # tight_layout minimizes the overlap between 2 sub-plots\n",
    "    plt.savefig('normal_{:04d}.png'.format(epoch))\n",
    "    plt.savefig('normal_{:04d}.png'.format(epoch))\n",
    "    plt.show()"
   ]
  },
  {
   "cell_type": "code",
   "execution_count": 83,
   "id": "487e8732",
   "metadata": {
    "execution": {
     "iopub.execute_input": "2022-09-05T15:09:02.312857Z",
     "iopub.status.busy": "2022-09-05T15:09:02.312554Z",
     "iopub.status.idle": "2022-09-05T15:09:02.355976Z",
     "shell.execute_reply": "2022-09-05T15:09:02.355037Z"
    },
    "id": "ZsIIwIOhNCVr",
    "papermill": {
     "duration": 0.070523,
     "end_time": "2022-09-05T15:09:02.358270",
     "exception": false,
     "start_time": "2022-09-05T15:09:02.287747",
     "status": "completed"
    },
    "tags": []
   },
   "outputs": [],
   "source": [
    "assert BATCH_SIZE >= num_examples_to_generate\n",
    "for test_batch in test_dataset.take(1):\n",
    "    test_sample = test_batch[0]"
   ]
  },
  {
   "cell_type": "code",
   "execution_count": 84,
   "id": "c2795605",
   "metadata": {
    "execution": {
     "iopub.execute_input": "2022-09-05T15:09:02.409162Z",
     "iopub.status.busy": "2022-09-05T15:09:02.408851Z",
     "iopub.status.idle": "2022-09-05T15:10:26.378956Z",
     "shell.execute_reply": "2022-09-05T15:10:26.377945Z"
    },
    "id": "6rkkmQCnNHpH",
    "papermill": {
     "duration": 83.998459,
     "end_time": "2022-09-05T15:10:26.381348",
     "exception": false,
     "start_time": "2022-09-05T15:09:02.382889",
     "status": "completed"
    },
    "tags": []
   },
   "outputs": [
    {
     "name": "stdout",
     "output_type": "stream",
     "text": [
      "Epoch: 20, Test set ELBO: 35579.75, time elapse for current epoch: 0.08116698265075684\n"
     ]
    },
    {
     "data": {
      "image/png": "[encoded data removed]",
      "text/plain": [
       "<Figure size 1296x1080 with 10 Axes>"
      ]
     },
     "metadata": {
      "needs_background": "light"
     },
     "output_type": "display_data"
    }
   ],
   "source": [
    "generate_and_save_images(model, 0, test_sample)\n",
    "\n",
    "\n",
    "for epoch in range(1, epochs + 1):\n",
    "    start_time = time.time()\n",
    "    for train_x in train_dataset:\n",
    "        train_x = np.asarray(train_x)[0]\n",
    "        train_step(model, train_x, optimizer)\n",
    "    end_time = time.time()\n",
    "\n",
    "    loss = tf.keras.metrics.Mean()\n",
    "    for test_x in test_dataset:\n",
    "        test_x = np.asarray(test_x)[0]\n",
    "        loss(compute_loss(model, test_x))\n",
    "    display.clear_output(wait=False)\n",
    "    elbo = -loss.result()\n",
    "    print('Epoch: {}, Test set ELBO: {}, time elapse for current epoch: {}'.format(epoch, elbo, end_time - start_time))\n",
    "    generate_and_save_images(model, epoch, test_sample)"
   ]
  },
  {
   "cell_type": "code",
   "execution_count": 85,
   "id": "7e7d11d5",
   "metadata": {
    "execution": {
     "iopub.execute_input": "2022-09-05T15:10:26.469387Z",
     "iopub.status.busy": "2022-09-05T15:10:26.469033Z",
     "iopub.status.idle": "2022-09-05T15:10:29.746820Z",
     "shell.execute_reply": "2022-09-05T15:10:29.745806Z"
    },
    "id": "WAKyCXFrNO8M",
    "papermill": {
     "duration": 3.327006,
     "end_time": "2022-09-05T15:10:29.749703",
     "exception": false,
     "start_time": "2022-09-05T15:10:26.422697",
     "status": "completed"
    },
    "tags": []
   },
   "outputs": [
    {
     "name": "stderr",
     "output_type": "stream",
     "text": [
      "/opt/conda/lib/python3.7/site-packages/ipykernel_launcher.py:7: DeprecationWarning: Starting with ImageIO v3 the behavior of this function will switch to that of iio.v3.imread. To keep the current behavior (and make this warning dissapear) use `import imageio.v2 as imageio` or call `imageio.v2.imread` directly.\n",
      "  import sys\n",
      "/opt/conda/lib/python3.7/site-packages/ipykernel_launcher.py:9: DeprecationWarning: Starting with ImageIO v3 the behavior of this function will switch to that of iio.v3.imread. To keep the current behavior (and make this warning dissapear) use `import imageio.v2 as imageio` or call `imageio.v2.imread` directly.\n",
      "  if __name__ == \"__main__\":\n"
     ]
    }
   ],
   "source": [
    "anim_file_2 = 'normal_cvae.gif'\n",
    "\n",
    "with imageio.get_writer(anim_file_2, mode='I') as writer:\n",
    "    filenames = glob.glob('normal*.png')\n",
    "    filenames = sorted(filenames)\n",
    "    for filename in filenames:\n",
    "        image = imageio.imread(filename)\n",
    "        writer.append_data(image)\n",
    "    image = imageio.imread(filename)\n",
    "    writer.append_data(image)"
   ]
  },
  {
   "cell_type": "code",
   "execution_count": 86,
   "id": "7ec56772",
   "metadata": {
    "execution": {
     "iopub.execute_input": "2022-09-05T15:10:29.836996Z",
     "iopub.status.busy": "2022-09-05T15:10:29.836280Z",
     "iopub.status.idle": "2022-09-05T15:10:29.841373Z",
     "shell.execute_reply": "2022-09-05T15:10:29.840272Z"
    },
    "id": "1cKznq16Q5Gg",
    "papermill": {
     "duration": 0.052111,
     "end_time": "2022-09-05T15:10:29.845012",
     "exception": false,
     "start_time": "2022-09-05T15:10:29.792901",
     "status": "completed"
    },
    "tags": []
   },
   "outputs": [],
   "source": [
    "#embed.embed_file(anim_file_2)"
   ]
  },
  {
   "cell_type": "markdown",
   "id": "7a1a93be",
   "metadata": {
    "papermill": {
     "duration": 0.041089,
     "end_time": "2022-09-05T15:10:29.927714",
     "exception": false,
     "start_time": "2022-09-05T15:10:29.886625",
     "status": "completed"
    },
    "tags": []
   },
   "source": [
    "## Generated sounds - Classical"
   ]
  },
  {
   "cell_type": "code",
   "execution_count": 87,
   "id": "0ee78578",
   "metadata": {
    "execution": {
     "iopub.execute_input": "2022-09-05T15:10:30.003770Z",
     "iopub.status.busy": "2022-09-05T15:10:30.003373Z",
     "iopub.status.idle": "2022-09-05T15:10:30.008578Z",
     "shell.execute_reply": "2022-09-05T15:10:30.007618Z"
    },
    "papermill": {
     "duration": 0.039277,
     "end_time": "2022-09-05T15:10:30.011136",
     "exception": false,
     "start_time": "2022-09-05T15:10:29.971859",
     "status": "completed"
    },
    "tags": []
   },
   "outputs": [
    {
     "name": "stdout",
     "output_type": "stream",
     "text": [
      "50\n"
     ]
    }
   ],
   "source": [
    "x2 = len(save_sound_U) \n",
    "print(x2)"
   ]
  },
  {
   "cell_type": "code",
   "execution_count": 88,
   "id": "5c8dcfc0",
   "metadata": {
    "execution": {
     "iopub.execute_input": "2022-09-05T15:10:30.065107Z",
     "iopub.status.busy": "2022-09-05T15:10:30.064793Z",
     "iopub.status.idle": "2022-09-05T15:10:30.083502Z",
     "shell.execute_reply": "2022-09-05T15:10:30.082613Z"
    },
    "papermill": {
     "duration": 0.047532,
     "end_time": "2022-09-05T15:10:30.085464",
     "exception": false,
     "start_time": "2022-09-05T15:10:30.037932",
     "status": "completed"
    },
    "tags": []
   },
   "outputs": [],
   "source": [
    "n1=save_sound_U[0][0]\n",
    "ipd.Audio(n1,rate=96000)\n",
    "sf.write('gen1.wav', n1, 96000)  "
   ]
  },
  {
   "cell_type": "code",
   "execution_count": 89,
   "id": "b28c7d28",
   "metadata": {
    "execution": {
     "iopub.execute_input": "2022-09-05T15:10:30.141072Z",
     "iopub.status.busy": "2022-09-05T15:10:30.140688Z",
     "iopub.status.idle": "2022-09-05T15:10:30.154044Z",
     "shell.execute_reply": "2022-09-05T15:10:30.152843Z"
    },
    "papermill": {
     "duration": 0.044396,
     "end_time": "2022-09-05T15:10:30.156807",
     "exception": false,
     "start_time": "2022-09-05T15:10:30.112411",
     "status": "completed"
    },
    "tags": []
   },
   "outputs": [],
   "source": [
    "n2=save_sound_U[1][0]\n",
    "ipd.Audio(n2,rate=96000)\n",
    "sf.write('gen2.wav', n2, 96000)  "
   ]
  },
  {
   "cell_type": "code",
   "execution_count": 90,
   "id": "fce4c4b1",
   "metadata": {
    "execution": {
     "iopub.execute_input": "2022-09-05T15:10:30.219750Z",
     "iopub.status.busy": "2022-09-05T15:10:30.218771Z",
     "iopub.status.idle": "2022-09-05T15:10:30.231531Z",
     "shell.execute_reply": "2022-09-05T15:10:30.230627Z"
    },
    "papermill": {
     "duration": 0.045743,
     "end_time": "2022-09-05T15:10:30.233703",
     "exception": false,
     "start_time": "2022-09-05T15:10:30.187960",
     "status": "completed"
    },
    "tags": []
   },
   "outputs": [],
   "source": [
    "n3=save_sound_U[2][0]\n",
    "ipd.Audio(n3,rate=96000)\n",
    "sf.write('gen3.wav', n3, 96000)  "
   ]
  },
  {
   "cell_type": "code",
   "execution_count": 91,
   "id": "d3d3b1f2",
   "metadata": {
    "execution": {
     "iopub.execute_input": "2022-09-05T15:10:30.286626Z",
     "iopub.status.busy": "2022-09-05T15:10:30.286281Z",
     "iopub.status.idle": "2022-09-05T15:10:30.298209Z",
     "shell.execute_reply": "2022-09-05T15:10:30.297256Z"
    },
    "papermill": {
     "duration": 0.04029,
     "end_time": "2022-09-05T15:10:30.300164",
     "exception": false,
     "start_time": "2022-09-05T15:10:30.259874",
     "status": "completed"
    },
    "tags": []
   },
   "outputs": [],
   "source": [
    "n4=save_sound_U[3][0]\n",
    "ipd.Audio(n4,rate=96000)\n",
    "sf.write('gen4.wav', n4, 96000)  "
   ]
  },
  {
   "cell_type": "code",
   "execution_count": 92,
   "id": "15e15aa9",
   "metadata": {
    "execution": {
     "iopub.execute_input": "2022-09-05T15:10:30.353416Z",
     "iopub.status.busy": "2022-09-05T15:10:30.352783Z",
     "iopub.status.idle": "2022-09-05T15:10:30.364254Z",
     "shell.execute_reply": "2022-09-05T15:10:30.363379Z"
    },
    "papermill": {
     "duration": 0.040172,
     "end_time": "2022-09-05T15:10:30.366303",
     "exception": false,
     "start_time": "2022-09-05T15:10:30.326131",
     "status": "completed"
    },
    "tags": []
   },
   "outputs": [],
   "source": [
    "n5=save_sound_U[4][0]\n",
    "ipd.Audio(n5,rate=96000)\n",
    "sf.write('gen5.wav', n5, 96000)  "
   ]
  },
  {
   "cell_type": "code",
   "execution_count": 93,
   "id": "5f4ef883",
   "metadata": {
    "execution": {
     "iopub.execute_input": "2022-09-05T15:10:30.419609Z",
     "iopub.status.busy": "2022-09-05T15:10:30.419273Z",
     "iopub.status.idle": "2022-09-05T15:10:30.430683Z",
     "shell.execute_reply": "2022-09-05T15:10:30.429700Z"
    },
    "papermill": {
     "duration": 0.040346,
     "end_time": "2022-09-05T15:10:30.432805",
     "exception": false,
     "start_time": "2022-09-05T15:10:30.392459",
     "status": "completed"
    },
    "tags": []
   },
   "outputs": [],
   "source": [
    "n6=save_sound_U[5][0]\n",
    "ipd.Audio(n6,rate=96000)\n",
    "sf.write('gen6.wav', n6, 96000)  "
   ]
  },
  {
   "cell_type": "code",
   "execution_count": 94,
   "id": "6155fe2f",
   "metadata": {
    "execution": {
     "iopub.execute_input": "2022-09-05T15:10:30.486170Z",
     "iopub.status.busy": "2022-09-05T15:10:30.485305Z",
     "iopub.status.idle": "2022-09-05T15:10:30.497038Z",
     "shell.execute_reply": "2022-09-05T15:10:30.496150Z"
    },
    "papermill": {
     "duration": 0.039931,
     "end_time": "2022-09-05T15:10:30.499022",
     "exception": false,
     "start_time": "2022-09-05T15:10:30.459091",
     "status": "completed"
    },
    "tags": []
   },
   "outputs": [],
   "source": [
    "n7=save_sound_U[6][0]\n",
    "ipd.Audio(n7,rate=96000)\n",
    "sf.write('gen7.wav', n7, 96000) "
   ]
  },
  {
   "cell_type": "code",
   "execution_count": 95,
   "id": "bb029c08",
   "metadata": {
    "execution": {
     "iopub.execute_input": "2022-09-05T15:10:30.552920Z",
     "iopub.status.busy": "2022-09-05T15:10:30.552601Z",
     "iopub.status.idle": "2022-09-05T15:10:30.564656Z",
     "shell.execute_reply": "2022-09-05T15:10:30.563747Z"
    },
    "papermill": {
     "duration": 0.041449,
     "end_time": "2022-09-05T15:10:30.566716",
     "exception": false,
     "start_time": "2022-09-05T15:10:30.525267",
     "status": "completed"
    },
    "tags": []
   },
   "outputs": [],
   "source": [
    "n8=save_sound_U[7][0]\n",
    "ipd.Audio(n8,rate=96000)\n",
    "sf.write('gen8.wav', n8, 96000) "
   ]
  },
  {
   "cell_type": "code",
   "execution_count": 96,
   "id": "aa17f254",
   "metadata": {
    "execution": {
     "iopub.execute_input": "2022-09-05T15:10:30.620382Z",
     "iopub.status.busy": "2022-09-05T15:10:30.620091Z",
     "iopub.status.idle": "2022-09-05T15:10:30.631667Z",
     "shell.execute_reply": "2022-09-05T15:10:30.630744Z"
    },
    "papermill": {
     "duration": 0.040976,
     "end_time": "2022-09-05T15:10:30.633856",
     "exception": false,
     "start_time": "2022-09-05T15:10:30.592880",
     "status": "completed"
    },
    "tags": []
   },
   "outputs": [],
   "source": [
    "n9=save_sound_U[8][0]\n",
    "ipd.Audio(n9,rate=96000)\n",
    "sf.write('gen9.wav', n9, 96000) "
   ]
  },
  {
   "cell_type": "code",
   "execution_count": 97,
   "id": "aaf28d40",
   "metadata": {
    "execution": {
     "iopub.execute_input": "2022-09-05T15:10:30.687803Z",
     "iopub.status.busy": "2022-09-05T15:10:30.687228Z",
     "iopub.status.idle": "2022-09-05T15:10:30.698609Z",
     "shell.execute_reply": "2022-09-05T15:10:30.697751Z"
    },
    "papermill": {
     "duration": 0.040652,
     "end_time": "2022-09-05T15:10:30.700640",
     "exception": false,
     "start_time": "2022-09-05T15:10:30.659988",
     "status": "completed"
    },
    "tags": []
   },
   "outputs": [],
   "source": [
    "n10=save_sound_U[9][0]\n",
    "ipd.Audio(n10,rate=96000)\n",
    "sf.write('gen10.wav', n10, 96000) "
   ]
  },
  {
   "cell_type": "code",
   "execution_count": 98,
   "id": "e8963e46",
   "metadata": {
    "execution": {
     "iopub.execute_input": "2022-09-05T15:10:30.754904Z",
     "iopub.status.busy": "2022-09-05T15:10:30.754255Z",
     "iopub.status.idle": "2022-09-05T15:10:30.765928Z",
     "shell.execute_reply": "2022-09-05T15:10:30.765052Z"
    },
    "papermill": {
     "duration": 0.041312,
     "end_time": "2022-09-05T15:10:30.768035",
     "exception": false,
     "start_time": "2022-09-05T15:10:30.726723",
     "status": "completed"
    },
    "tags": []
   },
   "outputs": [],
   "source": [
    "n11=save_sound_U[10][0]\n",
    "ipd.Audio(n11,rate=96000)\n",
    "sf.write('gen11.wav', n11, 96000) "
   ]
  },
  {
   "cell_type": "code",
   "execution_count": 99,
   "id": "2a687ea5",
   "metadata": {
    "execution": {
     "iopub.execute_input": "2022-09-05T15:10:30.822504Z",
     "iopub.status.busy": "2022-09-05T15:10:30.822158Z",
     "iopub.status.idle": "2022-09-05T15:10:30.833745Z",
     "shell.execute_reply": "2022-09-05T15:10:30.832641Z"
    },
    "papermill": {
     "duration": 0.041451,
     "end_time": "2022-09-05T15:10:30.835944",
     "exception": false,
     "start_time": "2022-09-05T15:10:30.794493",
     "status": "completed"
    },
    "tags": []
   },
   "outputs": [],
   "source": [
    "n12=save_sound_U[11][0]\n",
    "ipd.Audio(n12,rate=96000)\n",
    "sf.write('gen12.wav', n12, 96000) "
   ]
  },
  {
   "cell_type": "code",
   "execution_count": 100,
   "id": "caf05435",
   "metadata": {
    "execution": {
     "iopub.execute_input": "2022-09-05T15:10:30.890329Z",
     "iopub.status.busy": "2022-09-05T15:10:30.888894Z",
     "iopub.status.idle": "2022-09-05T15:10:30.901121Z",
     "shell.execute_reply": "2022-09-05T15:10:30.900262Z"
    },
    "papermill": {
     "duration": 0.041254,
     "end_time": "2022-09-05T15:10:30.903114",
     "exception": false,
     "start_time": "2022-09-05T15:10:30.861860",
     "status": "completed"
    },
    "tags": []
   },
   "outputs": [],
   "source": [
    "n13=save_sound_U[12][0]\n",
    "ipd.Audio(n13,rate=96000)\n",
    "sf.write('gen13.wav', n13, 96000) "
   ]
  },
  {
   "cell_type": "code",
   "execution_count": 101,
   "id": "a5b7a5db",
   "metadata": {
    "execution": {
     "iopub.execute_input": "2022-09-05T15:10:30.957553Z",
     "iopub.status.busy": "2022-09-05T15:10:30.957230Z",
     "iopub.status.idle": "2022-09-05T15:10:30.968333Z",
     "shell.execute_reply": "2022-09-05T15:10:30.967502Z"
    },
    "papermill": {
     "duration": 0.040578,
     "end_time": "2022-09-05T15:10:30.970265",
     "exception": false,
     "start_time": "2022-09-05T15:10:30.929687",
     "status": "completed"
    },
    "tags": []
   },
   "outputs": [],
   "source": [
    "n14=save_sound_U[13][0]\n",
    "ipd.Audio(n14,rate=96000)\n",
    "sf.write('gen14.wav', n14, 96000) "
   ]
  },
  {
   "cell_type": "code",
   "execution_count": 102,
   "id": "36b3b3f8",
   "metadata": {
    "execution": {
     "iopub.execute_input": "2022-09-05T15:10:31.023925Z",
     "iopub.status.busy": "2022-09-05T15:10:31.023046Z",
     "iopub.status.idle": "2022-09-05T15:10:31.035322Z",
     "shell.execute_reply": "2022-09-05T15:10:31.034441Z"
    },
    "papermill": {
     "duration": 0.041114,
     "end_time": "2022-09-05T15:10:31.037441",
     "exception": false,
     "start_time": "2022-09-05T15:10:30.996327",
     "status": "completed"
    },
    "tags": []
   },
   "outputs": [],
   "source": [
    "n15=save_sound_U[14][0]\n",
    "ipd.Audio(n15,rate=96000)\n",
    "sf.write('gen15.wav', n15, 96000) "
   ]
  },
  {
   "cell_type": "code",
   "execution_count": 103,
   "id": "b7672d32",
   "metadata": {
    "execution": {
     "iopub.execute_input": "2022-09-05T15:10:31.092629Z",
     "iopub.status.busy": "2022-09-05T15:10:31.091614Z",
     "iopub.status.idle": "2022-09-05T15:10:31.103321Z",
     "shell.execute_reply": "2022-09-05T15:10:31.102440Z"
    },
    "papermill": {
     "duration": 0.041662,
     "end_time": "2022-09-05T15:10:31.105706",
     "exception": false,
     "start_time": "2022-09-05T15:10:31.064044",
     "status": "completed"
    },
    "tags": []
   },
   "outputs": [],
   "source": [
    "n16=save_sound_U[15][0]\n",
    "ipd.Audio(n16,rate=96000)\n",
    "sf.write('gen16.wav', n16, 96000) "
   ]
  },
  {
   "cell_type": "code",
   "execution_count": 104,
   "id": "9cffec9d",
   "metadata": {
    "execution": {
     "iopub.execute_input": "2022-09-05T15:10:31.159842Z",
     "iopub.status.busy": "2022-09-05T15:10:31.159333Z",
     "iopub.status.idle": "2022-09-05T15:10:31.170483Z",
     "shell.execute_reply": "2022-09-05T15:10:31.169632Z"
    },
    "papermill": {
     "duration": 0.040801,
     "end_time": "2022-09-05T15:10:31.172680",
     "exception": false,
     "start_time": "2022-09-05T15:10:31.131879",
     "status": "completed"
    },
    "tags": []
   },
   "outputs": [],
   "source": [
    "n17=save_sound_U[16][0]\n",
    "ipd.Audio(n17,rate=96000)\n",
    "sf.write('gen17.wav', n17, 96000) "
   ]
  },
  {
   "cell_type": "code",
   "execution_count": 105,
   "id": "df5c2880",
   "metadata": {
    "execution": {
     "iopub.execute_input": "2022-09-05T15:10:31.227083Z",
     "iopub.status.busy": "2022-09-05T15:10:31.226771Z",
     "iopub.status.idle": "2022-09-05T15:10:31.236847Z",
     "shell.execute_reply": "2022-09-05T15:10:31.235915Z"
    },
    "papermill": {
     "duration": 0.039034,
     "end_time": "2022-09-05T15:10:31.238828",
     "exception": false,
     "start_time": "2022-09-05T15:10:31.199794",
     "status": "completed"
    },
    "tags": []
   },
   "outputs": [],
   "source": [
    "n18=save_sound_U[17][0]\n",
    "ipd.Audio(n18,rate=96000)\n",
    "sf.write('gen18.wav', n18, 96000) "
   ]
  },
  {
   "cell_type": "code",
   "execution_count": 106,
   "id": "3cf546df",
   "metadata": {
    "execution": {
     "iopub.execute_input": "2022-09-05T15:10:31.293842Z",
     "iopub.status.busy": "2022-09-05T15:10:31.293543Z",
     "iopub.status.idle": "2022-09-05T15:10:31.305237Z",
     "shell.execute_reply": "2022-09-05T15:10:31.304372Z"
    },
    "papermill": {
     "duration": 0.040737,
     "end_time": "2022-09-05T15:10:31.307316",
     "exception": false,
     "start_time": "2022-09-05T15:10:31.266579",
     "status": "completed"
    },
    "tags": []
   },
   "outputs": [],
   "source": [
    "n19=save_sound_U[18][0]\n",
    "ipd.Audio(n19,rate=96000)\n",
    "sf.write('gen19.wav', n19, 96000) "
   ]
  },
  {
   "cell_type": "code",
   "execution_count": 107,
   "id": "23524a78",
   "metadata": {
    "execution": {
     "iopub.execute_input": "2022-09-05T15:10:31.361194Z",
     "iopub.status.busy": "2022-09-05T15:10:31.360910Z",
     "iopub.status.idle": "2022-09-05T15:10:31.372011Z",
     "shell.execute_reply": "2022-09-05T15:10:31.371148Z"
    },
    "papermill": {
     "duration": 0.040906,
     "end_time": "2022-09-05T15:10:31.373995",
     "exception": false,
     "start_time": "2022-09-05T15:10:31.333089",
     "status": "completed"
    },
    "tags": []
   },
   "outputs": [],
   "source": [
    "n20=save_sound_U[19][0]\n",
    "ipd.Audio(n20,rate=96000)\n",
    "sf.write('gen20.wav', n20, 96000) "
   ]
  },
  {
   "cell_type": "code",
   "execution_count": 108,
   "id": "9bc073dc",
   "metadata": {
    "execution": {
     "iopub.execute_input": "2022-09-05T15:10:31.428895Z",
     "iopub.status.busy": "2022-09-05T15:10:31.428601Z",
     "iopub.status.idle": "2022-09-05T15:10:31.440031Z",
     "shell.execute_reply": "2022-09-05T15:10:31.439125Z"
    },
    "papermill": {
     "duration": 0.041472,
     "end_time": "2022-09-05T15:10:31.442051",
     "exception": false,
     "start_time": "2022-09-05T15:10:31.400579",
     "status": "completed"
    },
    "tags": []
   },
   "outputs": [],
   "source": [
    "n21=save_sound_U[20][0]\n",
    "ipd.Audio(n21,rate=96000)\n",
    "sf.write('gen21.wav', n21, 96000) "
   ]
  },
  {
   "cell_type": "code",
   "execution_count": 109,
   "id": "5a167b31",
   "metadata": {
    "execution": {
     "iopub.execute_input": "2022-09-05T15:10:31.496594Z",
     "iopub.status.busy": "2022-09-05T15:10:31.496264Z",
     "iopub.status.idle": "2022-09-05T15:10:31.507339Z",
     "shell.execute_reply": "2022-09-05T15:10:31.506247Z"
    },
    "papermill": {
     "duration": 0.041286,
     "end_time": "2022-09-05T15:10:31.509683",
     "exception": false,
     "start_time": "2022-09-05T15:10:31.468397",
     "status": "completed"
    },
    "tags": []
   },
   "outputs": [],
   "source": [
    "n22=save_sound_U[21][0]\n",
    "ipd.Audio(n22,rate=96000)\n",
    "sf.write('gen22.wav', n22, 96000) "
   ]
  },
  {
   "cell_type": "code",
   "execution_count": 110,
   "id": "eb48c3dd",
   "metadata": {
    "execution": {
     "iopub.execute_input": "2022-09-05T15:10:31.564043Z",
     "iopub.status.busy": "2022-09-05T15:10:31.563755Z",
     "iopub.status.idle": "2022-09-05T15:10:31.574460Z",
     "shell.execute_reply": "2022-09-05T15:10:31.573631Z"
    },
    "papermill": {
     "duration": 0.040681,
     "end_time": "2022-09-05T15:10:31.576539",
     "exception": false,
     "start_time": "2022-09-05T15:10:31.535858",
     "status": "completed"
    },
    "tags": []
   },
   "outputs": [],
   "source": [
    "n23=save_sound_U[22][0]\n",
    "ipd.Audio(n23,rate=96000)\n",
    "sf.write('gen23.wav', n23, 96000) "
   ]
  },
  {
   "cell_type": "code",
   "execution_count": 111,
   "id": "e0e3d9bd",
   "metadata": {
    "execution": {
     "iopub.execute_input": "2022-09-05T15:10:31.631505Z",
     "iopub.status.busy": "2022-09-05T15:10:31.631178Z",
     "iopub.status.idle": "2022-09-05T15:10:31.644224Z",
     "shell.execute_reply": "2022-09-05T15:10:31.643368Z"
    },
    "papermill": {
     "duration": 0.042966,
     "end_time": "2022-09-05T15:10:31.646309",
     "exception": false,
     "start_time": "2022-09-05T15:10:31.603343",
     "status": "completed"
    },
    "tags": []
   },
   "outputs": [],
   "source": [
    "n24=save_sound_U[23][0]\n",
    "ipd.Audio(n24,rate=96000)\n",
    "sf.write('gen24.wav', n24, 96000) "
   ]
  },
  {
   "cell_type": "code",
   "execution_count": 112,
   "id": "0e491270",
   "metadata": {
    "execution": {
     "iopub.execute_input": "2022-09-05T15:10:31.701096Z",
     "iopub.status.busy": "2022-09-05T15:10:31.699391Z",
     "iopub.status.idle": "2022-09-05T15:10:31.712335Z",
     "shell.execute_reply": "2022-09-05T15:10:31.711511Z"
    },
    "papermill": {
     "duration": 0.042051,
     "end_time": "2022-09-05T15:10:31.714500",
     "exception": false,
     "start_time": "2022-09-05T15:10:31.672449",
     "status": "completed"
    },
    "tags": []
   },
   "outputs": [],
   "source": [
    "n25=save_sound_U[24][0]\n",
    "ipd.Audio(n25,rate=96000)\n",
    "sf.write('gen25.wav', n25, 96000) "
   ]
  },
  {
   "cell_type": "code",
   "execution_count": 113,
   "id": "74f5fb71",
   "metadata": {
    "execution": {
     "iopub.execute_input": "2022-09-05T15:10:31.768591Z",
     "iopub.status.busy": "2022-09-05T15:10:31.768267Z",
     "iopub.status.idle": "2022-09-05T15:10:31.779364Z",
     "shell.execute_reply": "2022-09-05T15:10:31.778419Z"
    },
    "papermill": {
     "duration": 0.040378,
     "end_time": "2022-09-05T15:10:31.781427",
     "exception": false,
     "start_time": "2022-09-05T15:10:31.741049",
     "status": "completed"
    },
    "tags": []
   },
   "outputs": [],
   "source": [
    "n26=save_sound_U[25][0]\n",
    "ipd.Audio(n26,rate=96000)\n",
    "sf.write('gen26.wav', n26, 96000) "
   ]
  },
  {
   "cell_type": "code",
   "execution_count": 114,
   "id": "72a6b1ab",
   "metadata": {
    "execution": {
     "iopub.execute_input": "2022-09-05T15:10:31.835887Z",
     "iopub.status.busy": "2022-09-05T15:10:31.835602Z",
     "iopub.status.idle": "2022-09-05T15:10:31.847230Z",
     "shell.execute_reply": "2022-09-05T15:10:31.846335Z"
    },
    "papermill": {
     "duration": 0.040778,
     "end_time": "2022-09-05T15:10:31.849300",
     "exception": false,
     "start_time": "2022-09-05T15:10:31.808522",
     "status": "completed"
    },
    "tags": []
   },
   "outputs": [],
   "source": [
    "n27=save_sound_U[26][0]\n",
    "ipd.Audio(n27,rate=96000)\n",
    "sf.write('gen27.wav', n27, 96000) "
   ]
  },
  {
   "cell_type": "code",
   "execution_count": 115,
   "id": "b6998944",
   "metadata": {
    "execution": {
     "iopub.execute_input": "2022-09-05T15:10:31.905070Z",
     "iopub.status.busy": "2022-09-05T15:10:31.904457Z",
     "iopub.status.idle": "2022-09-05T15:10:31.915928Z",
     "shell.execute_reply": "2022-09-05T15:10:31.915054Z"
    },
    "papermill": {
     "duration": 0.041886,
     "end_time": "2022-09-05T15:10:31.918014",
     "exception": false,
     "start_time": "2022-09-05T15:10:31.876128",
     "status": "completed"
    },
    "tags": []
   },
   "outputs": [],
   "source": [
    "n28=save_sound_U[27][0]\n",
    "ipd.Audio(n28,rate=96000)\n",
    "sf.write('gen28.wav', n28, 96000) "
   ]
  },
  {
   "cell_type": "code",
   "execution_count": 116,
   "id": "1f48a24b",
   "metadata": {
    "execution": {
     "iopub.execute_input": "2022-09-05T15:10:31.973687Z",
     "iopub.status.busy": "2022-09-05T15:10:31.972749Z",
     "iopub.status.idle": "2022-09-05T15:10:31.984053Z",
     "shell.execute_reply": "2022-09-05T15:10:31.983218Z"
    },
    "papermill": {
     "duration": 0.04182,
     "end_time": "2022-09-05T15:10:31.986130",
     "exception": false,
     "start_time": "2022-09-05T15:10:31.944310",
     "status": "completed"
    },
    "tags": []
   },
   "outputs": [],
   "source": [
    "n29=save_sound_U[28][0]\n",
    "ipd.Audio(n29,rate=96000)\n",
    "sf.write('gen29.wav', n29, 96000) "
   ]
  },
  {
   "cell_type": "code",
   "execution_count": 117,
   "id": "0b4439b5",
   "metadata": {
    "execution": {
     "iopub.execute_input": "2022-09-05T15:10:32.042154Z",
     "iopub.status.busy": "2022-09-05T15:10:32.040560Z",
     "iopub.status.idle": "2022-09-05T15:10:32.053915Z",
     "shell.execute_reply": "2022-09-05T15:10:32.052843Z"
    },
    "papermill": {
     "duration": 0.042641,
     "end_time": "2022-09-05T15:10:32.055903",
     "exception": false,
     "start_time": "2022-09-05T15:10:32.013262",
     "status": "completed"
    },
    "tags": []
   },
   "outputs": [],
   "source": [
    "n30=save_sound_U[29][0]\n",
    "ipd.Audio(n30,rate=96000)\n",
    "sf.write('gen30.wav', n30, 96000) "
   ]
  },
  {
   "cell_type": "code",
   "execution_count": 118,
   "id": "84d409f6",
   "metadata": {
    "execution": {
     "iopub.execute_input": "2022-09-05T15:10:32.110665Z",
     "iopub.status.busy": "2022-09-05T15:10:32.110279Z",
     "iopub.status.idle": "2022-09-05T15:10:32.121025Z",
     "shell.execute_reply": "2022-09-05T15:10:32.120182Z"
    },
    "papermill": {
     "duration": 0.040351,
     "end_time": "2022-09-05T15:10:32.123093",
     "exception": false,
     "start_time": "2022-09-05T15:10:32.082742",
     "status": "completed"
    },
    "tags": []
   },
   "outputs": [],
   "source": [
    "n31=save_sound_U[30][0]\n",
    "ipd.Audio(n31,rate=96000)\n",
    "sf.write('gen31.wav', n31, 96000) "
   ]
  },
  {
   "cell_type": "code",
   "execution_count": 119,
   "id": "66017edd",
   "metadata": {
    "execution": {
     "iopub.execute_input": "2022-09-05T15:10:32.177889Z",
     "iopub.status.busy": "2022-09-05T15:10:32.177294Z",
     "iopub.status.idle": "2022-09-05T15:10:32.188253Z",
     "shell.execute_reply": "2022-09-05T15:10:32.187414Z"
    },
    "papermill": {
     "duration": 0.040587,
     "end_time": "2022-09-05T15:10:32.190287",
     "exception": false,
     "start_time": "2022-09-05T15:10:32.149700",
     "status": "completed"
    },
    "tags": []
   },
   "outputs": [],
   "source": [
    "n32=save_sound_U[31][0]\n",
    "ipd.Audio(n32,rate=96000)\n",
    "sf.write('gen32.wav', n32, 96000) "
   ]
  },
  {
   "cell_type": "code",
   "execution_count": 120,
   "id": "cd8556af",
   "metadata": {
    "execution": {
     "iopub.execute_input": "2022-09-05T15:10:32.247238Z",
     "iopub.status.busy": "2022-09-05T15:10:32.245587Z",
     "iopub.status.idle": "2022-09-05T15:10:32.257689Z",
     "shell.execute_reply": "2022-09-05T15:10:32.256808Z"
    },
    "papermill": {
     "duration": 0.042442,
     "end_time": "2022-09-05T15:10:32.259762",
     "exception": false,
     "start_time": "2022-09-05T15:10:32.217320",
     "status": "completed"
    },
    "tags": []
   },
   "outputs": [],
   "source": [
    "n33=save_sound_U[32][0]\n",
    "ipd.Audio(n33,rate=96000)\n",
    "sf.write('gen33.wav', n33, 96000) "
   ]
  },
  {
   "cell_type": "code",
   "execution_count": 121,
   "id": "2635bb8a",
   "metadata": {
    "execution": {
     "iopub.execute_input": "2022-09-05T15:10:32.316288Z",
     "iopub.status.busy": "2022-09-05T15:10:32.315358Z",
     "iopub.status.idle": "2022-09-05T15:10:32.327681Z",
     "shell.execute_reply": "2022-09-05T15:10:32.326805Z"
    },
    "papermill": {
     "duration": 0.042085,
     "end_time": "2022-09-05T15:10:32.329741",
     "exception": false,
     "start_time": "2022-09-05T15:10:32.287656",
     "status": "completed"
    },
    "tags": []
   },
   "outputs": [],
   "source": [
    "n34=save_sound_U[33][0]\n",
    "ipd.Audio(n34,rate=96000)\n",
    "sf.write('gen34.wav', n34, 96000) "
   ]
  },
  {
   "cell_type": "code",
   "execution_count": 122,
   "id": "3cc98859",
   "metadata": {
    "execution": {
     "iopub.execute_input": "2022-09-05T15:10:32.384975Z",
     "iopub.status.busy": "2022-09-05T15:10:32.384166Z",
     "iopub.status.idle": "2022-09-05T15:10:32.395855Z",
     "shell.execute_reply": "2022-09-05T15:10:32.394849Z"
    },
    "papermill": {
     "duration": 0.041572,
     "end_time": "2022-09-05T15:10:32.398076",
     "exception": false,
     "start_time": "2022-09-05T15:10:32.356504",
     "status": "completed"
    },
    "tags": []
   },
   "outputs": [],
   "source": [
    "n35=save_sound_U[34][0]\n",
    "ipd.Audio(n35,rate=96000)\n",
    "sf.write('gen35.wav', n35, 96000) "
   ]
  },
  {
   "cell_type": "code",
   "execution_count": 123,
   "id": "d9b4b1e0",
   "metadata": {
    "execution": {
     "iopub.execute_input": "2022-09-05T15:10:32.453947Z",
     "iopub.status.busy": "2022-09-05T15:10:32.453092Z",
     "iopub.status.idle": "2022-09-05T15:10:32.465071Z",
     "shell.execute_reply": "2022-09-05T15:10:32.464191Z"
    },
    "papermill": {
     "duration": 0.04235,
     "end_time": "2022-09-05T15:10:32.467093",
     "exception": false,
     "start_time": "2022-09-05T15:10:32.424743",
     "status": "completed"
    },
    "tags": []
   },
   "outputs": [],
   "source": [
    "n36=save_sound_U[35][0]\n",
    "ipd.Audio(n36,rate=96000)\n",
    "sf.write('gen36.wav', n36, 96000) "
   ]
  },
  {
   "cell_type": "code",
   "execution_count": 124,
   "id": "7c422564",
   "metadata": {
    "execution": {
     "iopub.execute_input": "2022-09-05T15:10:32.522976Z",
     "iopub.status.busy": "2022-09-05T15:10:32.522066Z",
     "iopub.status.idle": "2022-09-05T15:10:32.533536Z",
     "shell.execute_reply": "2022-09-05T15:10:32.532634Z"
    },
    "papermill": {
     "duration": 0.041851,
     "end_time": "2022-09-05T15:10:32.535670",
     "exception": false,
     "start_time": "2022-09-05T15:10:32.493819",
     "status": "completed"
    },
    "tags": []
   },
   "outputs": [],
   "source": [
    "n37=save_sound_U[36][0]\n",
    "ipd.Audio(n37,rate=96000)\n",
    "sf.write('gen37.wav', n37, 96000) "
   ]
  },
  {
   "cell_type": "code",
   "execution_count": 125,
   "id": "60d72c63",
   "metadata": {
    "execution": {
     "iopub.execute_input": "2022-09-05T15:10:32.592551Z",
     "iopub.status.busy": "2022-09-05T15:10:32.592220Z",
     "iopub.status.idle": "2022-09-05T15:10:32.603843Z",
     "shell.execute_reply": "2022-09-05T15:10:32.602790Z"
    },
    "papermill": {
     "duration": 0.041976,
     "end_time": "2022-09-05T15:10:32.605845",
     "exception": false,
     "start_time": "2022-09-05T15:10:32.563869",
     "status": "completed"
    },
    "tags": []
   },
   "outputs": [],
   "source": [
    "n38=save_sound_U[37][0]\n",
    "ipd.Audio(n38,rate=96000)\n",
    "sf.write('gen38.wav', n38, 96000) "
   ]
  },
  {
   "cell_type": "code",
   "execution_count": 126,
   "id": "d56bd5cf",
   "metadata": {
    "execution": {
     "iopub.execute_input": "2022-09-05T15:10:32.662551Z",
     "iopub.status.busy": "2022-09-05T15:10:32.661508Z",
     "iopub.status.idle": "2022-09-05T15:10:32.673972Z",
     "shell.execute_reply": "2022-09-05T15:10:32.672929Z"
    },
    "papermill": {
     "duration": 0.042995,
     "end_time": "2022-09-05T15:10:32.676328",
     "exception": false,
     "start_time": "2022-09-05T15:10:32.633333",
     "status": "completed"
    },
    "tags": []
   },
   "outputs": [],
   "source": [
    "n39=save_sound_U[38][0]\n",
    "ipd.Audio(n39,rate=96000)\n",
    "sf.write('gen39.wav', n39, 96000) "
   ]
  },
  {
   "cell_type": "code",
   "execution_count": 127,
   "id": "4f81108e",
   "metadata": {
    "execution": {
     "iopub.execute_input": "2022-09-05T15:10:32.733619Z",
     "iopub.status.busy": "2022-09-05T15:10:32.732571Z",
     "iopub.status.idle": "2022-09-05T15:10:32.744777Z",
     "shell.execute_reply": "2022-09-05T15:10:32.743882Z"
    },
    "papermill": {
     "duration": 0.042353,
     "end_time": "2022-09-05T15:10:32.746864",
     "exception": false,
     "start_time": "2022-09-05T15:10:32.704511",
     "status": "completed"
    },
    "tags": []
   },
   "outputs": [],
   "source": [
    "n40=save_sound_U[39][0]\n",
    "ipd.Audio(n40,rate=96000)\n",
    "sf.write('gen40.wav', n40, 96000) "
   ]
  }
 ],
 "metadata": {
  "kernelspec": {
   "display_name": "Python 3",
   "language": "python",
   "name": "python3"
  },
  "language_info": {
   "codemirror_mode": {
    "name": "ipython",
    "version": 3
   },
   "file_extension": ".py",
   "mimetype": "text/x-python",
   "name": "python",
   "nbconvert_exporter": "python",
   "pygments_lexer": "ipython3",
   "version": "3.7.12"
  },
  "papermill": {
   "default_parameters": {},
   "duration": 247.599225,
   "end_time": "2022-09-05T15:10:36.565015",
   "environment_variables": {},
   "exception": null,
   "input_path": "__notebook__.ipynb",
   "output_path": "__notebook__.ipynb",
   "parameters": {},
   "start_time": "2022-09-05T15:06:28.965790",
   "version": "2.3.4"
  }
 },
 "nbformat": 4,
 "nbformat_minor": 5
}
